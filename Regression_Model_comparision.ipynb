{
 "cells": [
  {
   "cell_type": "markdown",
   "id": "a3be41cf-79f7-4f8a-9699-8930bc337f67",
   "metadata": {},
   "source": [
    "# **Regression Models selection for the given dataset**"
   ]
  },
  {
   "cell_type": "code",
   "execution_count": 1,
   "id": "7a8d175d-67bd-4553-92b8-2f52050deb35",
   "metadata": {},
   "outputs": [],
   "source": [
    "import pandas as pd\n",
    "import numpy as np\n",
    "import matplotlib.pyplot as plt\n",
    "import plotly.express as px\n",
    "px.defaults.template = 'plotly_dark'\n",
    "\n",
    "from sklearn.model_selection import train_test_split,cross_val_score\n",
    "from sklearn.preprocessing import StandardScaler\n",
    "from sklearn.linear_model import LinearRegression, Ridge, Lasso, ElasticNet\n",
    "from sklearn.ensemble import RandomForestRegressor, AdaBoostRegressor, ExtraTreesRegressor, GradientBoostingRegressor\n",
    "from sklearn.tree import DecisionTreeRegressor\n",
    "from sklearn.neural_network import MLPRegressor\n",
    "import xgboost as xgb\n",
    "\n",
    "import sklearn.metrics as metrics\n",
    "from sklearn.metrics import mean_squared_error\n",
    "\n",
    "from math import sqrt\n",
    "\n",
    "import warnings\n",
    "warnings.filterwarnings(\"ignore\")\n"
   ]
  },
  {
   "cell_type": "code",
   "execution_count": 2,
   "id": "0c743bef-7e55-45a0-a2db-1dd97de119fb",
   "metadata": {},
   "outputs": [
    {
     "data": {
      "text/html": [
       "<div>\n",
       "<style scoped>\n",
       "    .dataframe tbody tr th:only-of-type {\n",
       "        vertical-align: middle;\n",
       "    }\n",
       "\n",
       "    .dataframe tbody tr th {\n",
       "        vertical-align: top;\n",
       "    }\n",
       "\n",
       "    .dataframe thead th {\n",
       "        text-align: right;\n",
       "    }\n",
       "</style>\n",
       "<table border=\"1\" class=\"dataframe\">\n",
       "  <thead>\n",
       "    <tr style=\"text-align: right;\">\n",
       "      <th></th>\n",
       "      <th>VendorID</th>\n",
       "      <th>passenger_count</th>\n",
       "      <th>fare_amount</th>\n",
       "      <th>mean_distance</th>\n",
       "      <th>mean_duration</th>\n",
       "      <th>rush_hour</th>\n",
       "    </tr>\n",
       "  </thead>\n",
       "  <tbody>\n",
       "    <tr>\n",
       "      <th>0</th>\n",
       "      <td>2</td>\n",
       "      <td>6</td>\n",
       "      <td>13.0</td>\n",
       "      <td>3.521667</td>\n",
       "      <td>22.847222</td>\n",
       "      <td>0</td>\n",
       "    </tr>\n",
       "    <tr>\n",
       "      <th>1</th>\n",
       "      <td>1</td>\n",
       "      <td>1</td>\n",
       "      <td>16.0</td>\n",
       "      <td>3.108889</td>\n",
       "      <td>24.470370</td>\n",
       "      <td>0</td>\n",
       "    </tr>\n",
       "    <tr>\n",
       "      <th>2</th>\n",
       "      <td>1</td>\n",
       "      <td>1</td>\n",
       "      <td>6.5</td>\n",
       "      <td>0.881429</td>\n",
       "      <td>7.250000</td>\n",
       "      <td>1</td>\n",
       "    </tr>\n",
       "    <tr>\n",
       "      <th>3</th>\n",
       "      <td>2</td>\n",
       "      <td>1</td>\n",
       "      <td>20.5</td>\n",
       "      <td>3.700000</td>\n",
       "      <td>30.250000</td>\n",
       "      <td>0</td>\n",
       "    </tr>\n",
       "    <tr>\n",
       "      <th>4</th>\n",
       "      <td>2</td>\n",
       "      <td>1</td>\n",
       "      <td>16.5</td>\n",
       "      <td>4.435000</td>\n",
       "      <td>14.616667</td>\n",
       "      <td>0</td>\n",
       "    </tr>\n",
       "  </tbody>\n",
       "</table>\n",
       "</div>"
      ],
      "text/plain": [
       "   VendorID  passenger_count  fare_amount  mean_distance  mean_duration  \\\n",
       "0         2                6         13.0       3.521667      22.847222   \n",
       "1         1                1         16.0       3.108889      24.470370   \n",
       "2         1                1          6.5       0.881429       7.250000   \n",
       "3         2                1         20.5       3.700000      30.250000   \n",
       "4         2                1         16.5       4.435000      14.616667   \n",
       "\n",
       "   rush_hour  \n",
       "0          0  \n",
       "1          0  \n",
       "2          1  \n",
       "3          0  \n",
       "4          0  "
      ]
     },
     "execution_count": 2,
     "metadata": {},
     "output_type": "execute_result"
    }
   ],
   "source": [
    "df = pd.read_csv('df2.csv')\n",
    "df.head()"
   ]
  },
  {
   "cell_type": "code",
   "execution_count": 3,
   "id": "74e7dc4b-e189-449d-9e5e-96753a29e8d1",
   "metadata": {},
   "outputs": [
    {
     "data": {
      "text/plain": [
       "Index(['VendorID', 'passenger_count', 'fare_amount', 'mean_distance',\n",
       "       'mean_duration', 'rush_hour'],\n",
       "      dtype='object')"
      ]
     },
     "execution_count": 3,
     "metadata": {},
     "output_type": "execute_result"
    }
   ],
   "source": [
    "df.columns"
   ]
  },
  {
   "cell_type": "code",
   "execution_count": 4,
   "id": "30e4c47b-3d49-44ea-b29e-d2039156588c",
   "metadata": {},
   "outputs": [
    {
     "data": {
      "text/plain": [
       "(22699, 6)"
      ]
     },
     "execution_count": 4,
     "metadata": {},
     "output_type": "execute_result"
    }
   ],
   "source": [
    "df.shape"
   ]
  },
  {
   "cell_type": "code",
   "execution_count": 5,
   "id": "f24bde7f-39d7-4a66-9357-725cd08d4ea9",
   "metadata": {},
   "outputs": [
    {
     "data": {
      "text/plain": [
       "0    13.0\n",
       "1    16.0\n",
       "2     6.5\n",
       "3    20.5\n",
       "4    16.5\n",
       "Name: fare_amount, dtype: float64"
      ]
     },
     "execution_count": 5,
     "metadata": {},
     "output_type": "execute_result"
    }
   ],
   "source": [
    "y = df['fare_amount']\n",
    "y.head()"
   ]
  },
  {
   "cell_type": "code",
   "execution_count": 6,
   "id": "18a3436b-2e95-4d39-9b2d-56c0330a588c",
   "metadata": {},
   "outputs": [
    {
     "data": {
      "text/html": [
       "<div>\n",
       "<style scoped>\n",
       "    .dataframe tbody tr th:only-of-type {\n",
       "        vertical-align: middle;\n",
       "    }\n",
       "\n",
       "    .dataframe tbody tr th {\n",
       "        vertical-align: top;\n",
       "    }\n",
       "\n",
       "    .dataframe thead th {\n",
       "        text-align: right;\n",
       "    }\n",
       "</style>\n",
       "<table border=\"1\" class=\"dataframe\">\n",
       "  <thead>\n",
       "    <tr style=\"text-align: right;\">\n",
       "      <th></th>\n",
       "      <th>VendorID</th>\n",
       "      <th>passenger_count</th>\n",
       "      <th>mean_distance</th>\n",
       "      <th>mean_duration</th>\n",
       "      <th>rush_hour</th>\n",
       "    </tr>\n",
       "  </thead>\n",
       "  <tbody>\n",
       "    <tr>\n",
       "      <th>0</th>\n",
       "      <td>2</td>\n",
       "      <td>6</td>\n",
       "      <td>3.521667</td>\n",
       "      <td>22.847222</td>\n",
       "      <td>0</td>\n",
       "    </tr>\n",
       "    <tr>\n",
       "      <th>1</th>\n",
       "      <td>1</td>\n",
       "      <td>1</td>\n",
       "      <td>3.108889</td>\n",
       "      <td>24.470370</td>\n",
       "      <td>0</td>\n",
       "    </tr>\n",
       "    <tr>\n",
       "      <th>2</th>\n",
       "      <td>1</td>\n",
       "      <td>1</td>\n",
       "      <td>0.881429</td>\n",
       "      <td>7.250000</td>\n",
       "      <td>1</td>\n",
       "    </tr>\n",
       "    <tr>\n",
       "      <th>3</th>\n",
       "      <td>2</td>\n",
       "      <td>1</td>\n",
       "      <td>3.700000</td>\n",
       "      <td>30.250000</td>\n",
       "      <td>0</td>\n",
       "    </tr>\n",
       "    <tr>\n",
       "      <th>4</th>\n",
       "      <td>2</td>\n",
       "      <td>1</td>\n",
       "      <td>4.435000</td>\n",
       "      <td>14.616667</td>\n",
       "      <td>0</td>\n",
       "    </tr>\n",
       "  </tbody>\n",
       "</table>\n",
       "</div>"
      ],
      "text/plain": [
       "   VendorID  passenger_count  mean_distance  mean_duration  rush_hour\n",
       "0         2                6       3.521667      22.847222          0\n",
       "1         1                1       3.108889      24.470370          0\n",
       "2         1                1       0.881429       7.250000          1\n",
       "3         2                1       3.700000      30.250000          0\n",
       "4         2                1       4.435000      14.616667          0"
      ]
     },
     "execution_count": 6,
     "metadata": {},
     "output_type": "execute_result"
    }
   ],
   "source": [
    "X = df.copy()\n",
    "X = X.drop(columns='fare_amount')\n",
    "X.head()"
   ]
  },
  {
   "cell_type": "code",
   "execution_count": 7,
   "id": "8b52cbac-2ce4-4e61-947a-ca13adcc417e",
   "metadata": {},
   "outputs": [],
   "source": [
    "X_train,X_test,y_train,y_test = train_test_split(X,y,test_size=0.2, random_state=0)"
   ]
  },
  {
   "cell_type": "code",
   "execution_count": 8,
   "id": "958df11f-c8b7-4b55-98e4-b9f97b7e18cc",
   "metadata": {},
   "outputs": [
    {
     "name": "stdout",
     "output_type": "stream",
     "text": [
      "X_train shape : (18159, 5)\n",
      "X_test shape : (4540, 5)\n",
      "y_train shape : (18159,)\n",
      "y_test shape : (4540,)\n"
     ]
    }
   ],
   "source": [
    "print('X_train shape :',X_train.shape)\n",
    "print('X_test shape :',X_test.shape)\n",
    "print('y_train shape :',y_train.shape)\n",
    "print('y_test shape :',y_test.shape)"
   ]
  },
  {
   "cell_type": "markdown",
   "id": "3efc8b4a-ba75-4b1c-9c31-474a90a4778a",
   "metadata": {},
   "source": [
    "### **Commonly used regression evaluation metrics :**\n",
    "\n",
    "**R-squared (R2)**: Indicates the proportion of the variance in the dependent variable that is predictable from the independent variables. It ranges from 0 to 1, where 1 indicates a perfect \n",
    "\n",
    "**Mean Squared Error (MSE)**: Measures the average of the squares of the errors or deviations, which is the difference between the estimator and what is estimated.\n",
    "\n",
    "**Mean Absolute Error (MAE)**: Measures the average of the absolute errors between the predicted and actual values.\n",
    "\n",
    "**Root Mean Squared Error (RMSE)**: Represents the square root of the MSE and provides a measure of how spread out the residuals are.\n",
    "\n"
   ]
  },
  {
   "cell_type": "markdown",
   "id": "e8d0c8df-bfc6-4564-a11c-13535030808c",
   "metadata": {},
   "source": [
    "# **Regression Model Comparision**"
   ]
  },
  {
   "cell_type": "markdown",
   "id": "18e563e3-8aef-42b6-b504-3d1f63746b68",
   "metadata": {},
   "source": [
    "### **Linear Regression**"
   ]
  },
  {
   "cell_type": "code",
   "execution_count": 9,
   "id": "5decff8b-def7-430b-9267-def5f6c40b3c",
   "metadata": {},
   "outputs": [
    {
     "data": {
      "text/html": [
       "<div>\n",
       "<style scoped>\n",
       "    .dataframe tbody tr th:only-of-type {\n",
       "        vertical-align: middle;\n",
       "    }\n",
       "\n",
       "    .dataframe tbody tr th {\n",
       "        vertical-align: top;\n",
       "    }\n",
       "\n",
       "    .dataframe thead th {\n",
       "        text-align: right;\n",
       "    }\n",
       "</style>\n",
       "<table border=\"1\" class=\"dataframe\">\n",
       "  <thead>\n",
       "    <tr style=\"text-align: right;\">\n",
       "      <th></th>\n",
       "      <th>Model</th>\n",
       "      <th>R-squared</th>\n",
       "      <th>Mean Squared Error (MSE)</th>\n",
       "      <th>Root Mean Squared Error (RMSE)</th>\n",
       "      <th>Mean Absolute Error (MAE)</th>\n",
       "    </tr>\n",
       "  </thead>\n",
       "  <tbody>\n",
       "    <tr>\n",
       "      <th>0</th>\n",
       "      <td>Linear Regression</td>\n",
       "      <td>86.826</td>\n",
       "      <td>14.326</td>\n",
       "      <td>3.785</td>\n",
       "      <td>2.134</td>\n",
       "    </tr>\n",
       "  </tbody>\n",
       "</table>\n",
       "</div>"
      ],
      "text/plain": [
       "               Model  R-squared  Mean Squared Error (MSE)  \\\n",
       "0  Linear Regression     86.826                    14.326   \n",
       "\n",
       "   Root Mean Squared Error (RMSE)  Mean Absolute Error (MAE)  \n",
       "0                           3.785                      2.134  "
      ]
     },
     "execution_count": 9,
     "metadata": {},
     "output_type": "execute_result"
    }
   ],
   "source": [
    "scaler = StandardScaler()\n",
    "X_train_scaled = scaler.fit_transform(X_train)\n",
    "X_test_scaled = scaler.transform(X_test)\n",
    "\n",
    "model_lin = LinearRegression()\n",
    "model_lin.fit(X_train_scaled , y_train)\n",
    "\n",
    "# Predict on the test set\n",
    "y_pred = model_lin.predict(X_test_scaled)\n",
    "\n",
    "# Calculate evaluation metrics\n",
    "r2_lin = round(metrics.r2_score(y_test, y_pred)*100,3)\n",
    "mse_lin = round(metrics.mean_squared_error(y_test, y_pred),3)\n",
    "rmse_lin = round(np.sqrt(mse_lin),3)\n",
    "mae_lin = round(metrics.mean_absolute_error(y_test, y_pred),3)\n",
    "\n",
    "# Create a DataFrame to store the evaluation metrics\n",
    "metrics_lin = pd.DataFrame({'Model': ['Linear Regression'],                            \n",
    "                            'R-squared': [r2_lin],\n",
    "                            'Mean Squared Error (MSE)': [mse_lin],\n",
    "                            'Root Mean Squared Error (RMSE)': [rmse_lin],\n",
    "                            'Mean Absolute Error (MAE)': [mae_lin]\n",
    "                           })\n",
    "\n",
    "# Display the DataFrame\n",
    "metrics_lin"
   ]
  },
  {
   "cell_type": "markdown",
   "id": "6ff11e7e-dee0-4f3d-b406-6dfb479935c0",
   "metadata": {},
   "source": [
    "## **Ridge**"
   ]
  },
  {
   "cell_type": "code",
   "execution_count": 10,
   "id": "93ab4944-eb4f-4e3d-8605-a1106e6765df",
   "metadata": {},
   "outputs": [
    {
     "data": {
      "text/html": [
       "<div>\n",
       "<style scoped>\n",
       "    .dataframe tbody tr th:only-of-type {\n",
       "        vertical-align: middle;\n",
       "    }\n",
       "\n",
       "    .dataframe tbody tr th {\n",
       "        vertical-align: top;\n",
       "    }\n",
       "\n",
       "    .dataframe thead th {\n",
       "        text-align: right;\n",
       "    }\n",
       "</style>\n",
       "<table border=\"1\" class=\"dataframe\">\n",
       "  <thead>\n",
       "    <tr style=\"text-align: right;\">\n",
       "      <th></th>\n",
       "      <th>Model</th>\n",
       "      <th>R-squared</th>\n",
       "      <th>Mean Squared Error (MSE)</th>\n",
       "      <th>Root Mean Squared Error (RMSE)</th>\n",
       "      <th>Mean Absolute Error (MAE)</th>\n",
       "    </tr>\n",
       "  </thead>\n",
       "  <tbody>\n",
       "    <tr>\n",
       "      <th>0</th>\n",
       "      <td>Ridge Regression</td>\n",
       "      <td>86.826</td>\n",
       "      <td>14.326</td>\n",
       "      <td>3.785</td>\n",
       "      <td>2.134</td>\n",
       "    </tr>\n",
       "  </tbody>\n",
       "</table>\n",
       "</div>"
      ],
      "text/plain": [
       "              Model  R-squared  Mean Squared Error (MSE)  \\\n",
       "0  Ridge Regression     86.826                    14.326   \n",
       "\n",
       "   Root Mean Squared Error (RMSE)  Mean Absolute Error (MAE)  \n",
       "0                           3.785                      2.134  "
      ]
     },
     "execution_count": 10,
     "metadata": {},
     "output_type": "execute_result"
    }
   ],
   "source": [
    "\n",
    "scaler = StandardScaler()\n",
    "X_train_scaled = scaler.fit_transform(X_train)\n",
    "X_test_scaled = scaler.transform(X_test)\n",
    "\n",
    "\n",
    "alpha = 0.3 \n",
    "model_ridge = Ridge(alpha=alpha)\n",
    "model_ridge.fit(X_train_scaled, y_train)\n",
    "\n",
    "# Predict on the test set\n",
    "y_pred_ridge = model_ridge.predict(X_test_scaled)\n",
    "\n",
    "# Calculate evaluation metrics\n",
    "r2_ridge = round(metrics.r2_score(y_test, y_pred_ridge)*100,3)\n",
    "mse_ridge = round(metrics.mean_squared_error(y_test, y_pred_ridge),3)\n",
    "mae_ridge = round(metrics.mean_absolute_error(y_test, y_pred_ridge),3)\n",
    "rmse_ridge = round(np.sqrt(mse_ridge),3)\n",
    "\n",
    "# Create a DataFrame to store the evaluation metrics\n",
    "metrics_ridge = pd.DataFrame({'Model': ['Ridge Regression'],                            \n",
    "                            'R-squared': [r2_ridge],\n",
    "                            'Mean Squared Error (MSE)': [mse_ridge],\n",
    "                            'Root Mean Squared Error (RMSE)': [rmse_ridge],\n",
    "                            'Mean Absolute Error (MAE)': [mae_ridge],\n",
    "                           })\n",
    "\n",
    "# Display the DataFrame\n",
    "metrics_ridge"
   ]
  },
  {
   "cell_type": "markdown",
   "id": "993d8045-4d21-4d46-802a-22a1d92887e5",
   "metadata": {},
   "source": [
    "## **Lasso**"
   ]
  },
  {
   "cell_type": "code",
   "execution_count": 11,
   "id": "9b81e0f7-3baf-4967-8452-a4688cb3676f",
   "metadata": {},
   "outputs": [
    {
     "data": {
      "text/html": [
       "<div>\n",
       "<style scoped>\n",
       "    .dataframe tbody tr th:only-of-type {\n",
       "        vertical-align: middle;\n",
       "    }\n",
       "\n",
       "    .dataframe tbody tr th {\n",
       "        vertical-align: top;\n",
       "    }\n",
       "\n",
       "    .dataframe thead th {\n",
       "        text-align: right;\n",
       "    }\n",
       "</style>\n",
       "<table border=\"1\" class=\"dataframe\">\n",
       "  <thead>\n",
       "    <tr style=\"text-align: right;\">\n",
       "      <th></th>\n",
       "      <th>Model</th>\n",
       "      <th>R-squared</th>\n",
       "      <th>Mean Squared Error (MSE)</th>\n",
       "      <th>Root Mean Squared Error (RMSE)</th>\n",
       "      <th>Mean Absolute Error (MAE)</th>\n",
       "    </tr>\n",
       "  </thead>\n",
       "  <tbody>\n",
       "    <tr>\n",
       "      <th>0</th>\n",
       "      <td>Lasso Regression</td>\n",
       "      <td>86.826</td>\n",
       "      <td>14.326</td>\n",
       "      <td>3.785</td>\n",
       "      <td>2.134</td>\n",
       "    </tr>\n",
       "  </tbody>\n",
       "</table>\n",
       "</div>"
      ],
      "text/plain": [
       "              Model  R-squared  Mean Squared Error (MSE)  \\\n",
       "0  Lasso Regression     86.826                    14.326   \n",
       "\n",
       "   Root Mean Squared Error (RMSE)  Mean Absolute Error (MAE)  \n",
       "0                           3.785                      2.134  "
      ]
     },
     "execution_count": 11,
     "metadata": {},
     "output_type": "execute_result"
    }
   ],
   "source": [
    "scaler = StandardScaler()\n",
    "X_train_scaled = scaler.fit_transform(X_train)\n",
    "X_test_scaled = scaler.transform(X_test)\n",
    "\n",
    "# Define the alpha parameter for Lasso regularization\n",
    "alpha = 0.00009 \n",
    "\n",
    "# Instantiate and fit the Lasso regression model\n",
    "model_lasso = Lasso(alpha=alpha)\n",
    "model_lasso.fit(X_train_scaled, y_train)\n",
    "\n",
    "# Predict on the test set\n",
    "y_pred_lasso = model_lasso.predict(X_test_scaled)\n",
    "\n",
    "# Calculate evaluation metrics\n",
    "r2_lasso = round(metrics.r2_score(y_test, y_pred_lasso)*100,3)\n",
    "mse_lasso = round(metrics.mean_squared_error(y_test, y_pred_lasso),3)\n",
    "mae_lasso = round(metrics.mean_absolute_error(y_test, y_pred_lasso),3)\n",
    "rmse_lasso = round(np.sqrt(mse_lasso),3)\n",
    "\n",
    "# Create a DataFrame to store the evaluation metrics for Lasso regression\n",
    "metrics_lasso = pd.DataFrame({'Model': ['Lasso Regression'],                            \n",
    "                            'R-squared': [r2_lasso],\n",
    "                            'Mean Squared Error (MSE)': [mse_lasso],\n",
    "                            'Root Mean Squared Error (RMSE)': [rmse_lasso],\n",
    "                            'Mean Absolute Error (MAE)': [mae_lasso],\n",
    "                           })\n",
    "\n",
    "# Display the DataFrame for Lasso regression\n",
    "metrics_lasso"
   ]
  },
  {
   "cell_type": "markdown",
   "id": "42da274a-b7a9-4151-b020-c08732f8e8ad",
   "metadata": {},
   "source": [
    "## **ElasticNet**"
   ]
  },
  {
   "cell_type": "code",
   "execution_count": 12,
   "id": "0b79d55e-40b3-479a-9884-752b09671096",
   "metadata": {},
   "outputs": [
    {
     "data": {
      "text/html": [
       "<div>\n",
       "<style scoped>\n",
       "    .dataframe tbody tr th:only-of-type {\n",
       "        vertical-align: middle;\n",
       "    }\n",
       "\n",
       "    .dataframe tbody tr th {\n",
       "        vertical-align: top;\n",
       "    }\n",
       "\n",
       "    .dataframe thead th {\n",
       "        text-align: right;\n",
       "    }\n",
       "</style>\n",
       "<table border=\"1\" class=\"dataframe\">\n",
       "  <thead>\n",
       "    <tr style=\"text-align: right;\">\n",
       "      <th></th>\n",
       "      <th>Model</th>\n",
       "      <th>R-squared</th>\n",
       "      <th>Mean Squared Error (MSE)</th>\n",
       "      <th>Root Mean Squared Error (RMSE)</th>\n",
       "      <th>Mean Absolute Error (MAE)</th>\n",
       "    </tr>\n",
       "  </thead>\n",
       "  <tbody>\n",
       "    <tr>\n",
       "      <th>0</th>\n",
       "      <td>ElasticNet Regression</td>\n",
       "      <td>80.019</td>\n",
       "      <td>21.729</td>\n",
       "      <td>4.661</td>\n",
       "      <td>2.95</td>\n",
       "    </tr>\n",
       "  </tbody>\n",
       "</table>\n",
       "</div>"
      ],
      "text/plain": [
       "                   Model  R-squared  Mean Squared Error (MSE)  \\\n",
       "0  ElasticNet Regression     80.019                    21.729   \n",
       "\n",
       "   Root Mean Squared Error (RMSE)  Mean Absolute Error (MAE)  \n",
       "0                           4.661                       2.95  "
      ]
     },
     "execution_count": 12,
     "metadata": {},
     "output_type": "execute_result"
    }
   ],
   "source": [
    "scaler = StandardScaler()\n",
    "X_train_scaled = scaler.fit_transform(X_train)\n",
    "X_test_scaled = scaler.transform(X_test)\n",
    "\n",
    "# Define the alpha parameter for ElasticNet regularization\n",
    "alpha = 1\n",
    "l1_ratio=0.5\n",
    "\n",
    "# Instantiate and fit the ElasticNet regression model\n",
    "model_elasticnet = ElasticNet(alpha=alpha,l1_ratio=l1_ratio)\n",
    "model_elasticnet.fit(X_train_scaled, y_train)\n",
    "\n",
    "# Predict on the test set\n",
    "y_pred_elasticnet = model_elasticnet.predict(X_test_scaled)\n",
    "\n",
    "# Calculate evaluation metrics\n",
    "r2_elasticnet = round(metrics.r2_score(y_test, y_pred_elasticnet)*100, 3)\n",
    "mse_elasticnet = round(metrics.mean_squared_error(y_test, y_pred_elasticnet),3)\n",
    "mae_elasticnet = round(metrics.mean_absolute_error(y_test, y_pred_elasticnet),3)\n",
    "rmse_elasticnet = round(np.sqrt(mse_elasticnet),3)\n",
    "\n",
    "# Create a DataFrame to store the evaluation metrics for ElasticNet regression\n",
    "metrics_elasticnet = pd.DataFrame({'Model': ['ElasticNet Regression'],                            \n",
    "                            'R-squared': [r2_elasticnet],\n",
    "                            'Mean Squared Error (MSE)': [mse_elasticnet],\n",
    "                            'Root Mean Squared Error (RMSE)': [rmse_elasticnet],\n",
    "                            'Mean Absolute Error (MAE)': [mae_elasticnet],\n",
    "                           })\n",
    "\n",
    "# Display the DataFrame for ElasticNet regression\n",
    "metrics_elasticnet"
   ]
  },
  {
   "cell_type": "markdown",
   "id": "d47269e2-747c-4834-8bc6-39aa2ff3941d",
   "metadata": {},
   "source": [
    "## **Random Forest Regression**"
   ]
  },
  {
   "cell_type": "code",
   "execution_count": 13,
   "id": "5d963dcc-8278-4d02-9e4a-4320b4740a30",
   "metadata": {},
   "outputs": [
    {
     "data": {
      "text/html": [
       "<div>\n",
       "<style scoped>\n",
       "    .dataframe tbody tr th:only-of-type {\n",
       "        vertical-align: middle;\n",
       "    }\n",
       "\n",
       "    .dataframe tbody tr th {\n",
       "        vertical-align: top;\n",
       "    }\n",
       "\n",
       "    .dataframe thead th {\n",
       "        text-align: right;\n",
       "    }\n",
       "</style>\n",
       "<table border=\"1\" class=\"dataframe\">\n",
       "  <thead>\n",
       "    <tr style=\"text-align: right;\">\n",
       "      <th></th>\n",
       "      <th>Model</th>\n",
       "      <th>R-squared</th>\n",
       "      <th>Mean Squared Error (MSE)</th>\n",
       "      <th>Root Mean Squared Error (RMSE)</th>\n",
       "      <th>Mean Absolute Error (MAE)</th>\n",
       "    </tr>\n",
       "  </thead>\n",
       "  <tbody>\n",
       "    <tr>\n",
       "      <th>0</th>\n",
       "      <td>Random Forest Regression</td>\n",
       "      <td>84.951</td>\n",
       "      <td>16.365</td>\n",
       "      <td>4.045</td>\n",
       "      <td>2.364</td>\n",
       "    </tr>\n",
       "  </tbody>\n",
       "</table>\n",
       "</div>"
      ],
      "text/plain": [
       "                      Model  R-squared  Mean Squared Error (MSE)  \\\n",
       "0  Random Forest Regression     84.951                    16.365   \n",
       "\n",
       "   Root Mean Squared Error (RMSE)  Mean Absolute Error (MAE)  \n",
       "0                           4.045                      2.364  "
      ]
     },
     "execution_count": 13,
     "metadata": {},
     "output_type": "execute_result"
    }
   ],
   "source": [
    "\n",
    "model_rf = RandomForestRegressor(n_estimators=100, max_depth=None, random_state=42)\n",
    "model_rf.fit(X_train, y_train)\n",
    "\n",
    "# Predict on the test set\n",
    "y_pred_rf = model_rf.predict(X_test)\n",
    "\n",
    "# Calculate evaluation metrics\n",
    "r2_rf = round(metrics.r2_score(y_test, y_pred_rf) * 100, 3)\n",
    "mse_rf = round(metrics.mean_squared_error(y_test, y_pred_rf),3)\n",
    "mae_rf = round(metrics.mean_absolute_error(y_test, y_pred_rf),3)\n",
    "rmse_rf = round(np.sqrt(mse_rf),3)\n",
    "\n",
    "# Create a DataFrame to store the evaluation metrics for RandomForestRegressor\n",
    "metrics_rf = pd.DataFrame({'Model': ['Random Forest Regression'],                            \n",
    "                           'R-squared': [r2_rf],\n",
    "                           'Mean Squared Error (MSE)': [mse_rf],\n",
    "                           'Root Mean Squared Error (RMSE)': [rmse_rf],\n",
    "                           'Mean Absolute Error (MAE)': [mae_rf]\n",
    "                          })\n",
    "\n",
    "metrics_rf"
   ]
  },
  {
   "cell_type": "markdown",
   "id": "a07331c6-2e4b-4f72-be20-596f6669f5ea",
   "metadata": {},
   "source": [
    "## **AdaBoost Regression**"
   ]
  },
  {
   "cell_type": "code",
   "execution_count": 14,
   "id": "a9a135f1-1125-42c9-8d9e-457e15cb351a",
   "metadata": {},
   "outputs": [
    {
     "data": {
      "text/html": [
       "<div>\n",
       "<style scoped>\n",
       "    .dataframe tbody tr th:only-of-type {\n",
       "        vertical-align: middle;\n",
       "    }\n",
       "\n",
       "    .dataframe tbody tr th {\n",
       "        vertical-align: top;\n",
       "    }\n",
       "\n",
       "    .dataframe thead th {\n",
       "        text-align: right;\n",
       "    }\n",
       "</style>\n",
       "<table border=\"1\" class=\"dataframe\">\n",
       "  <thead>\n",
       "    <tr style=\"text-align: right;\">\n",
       "      <th></th>\n",
       "      <th>Model</th>\n",
       "      <th>R-squared</th>\n",
       "      <th>Mean Squared Error (MSE)</th>\n",
       "      <th>Root Mean Squared Error (RMSE)</th>\n",
       "      <th>Mean Absolute Error (MAE)</th>\n",
       "    </tr>\n",
       "  </thead>\n",
       "  <tbody>\n",
       "    <tr>\n",
       "      <th>0</th>\n",
       "      <td>AdaBoost Regression</td>\n",
       "      <td>36.111</td>\n",
       "      <td>69.478</td>\n",
       "      <td>8.335</td>\n",
       "      <td>6.347</td>\n",
       "    </tr>\n",
       "  </tbody>\n",
       "</table>\n",
       "</div>"
      ],
      "text/plain": [
       "                 Model  R-squared  Mean Squared Error (MSE)  \\\n",
       "0  AdaBoost Regression     36.111                    69.478   \n",
       "\n",
       "   Root Mean Squared Error (RMSE)  Mean Absolute Error (MAE)  \n",
       "0                           8.335                      6.347  "
      ]
     },
     "execution_count": 14,
     "metadata": {},
     "output_type": "execute_result"
    }
   ],
   "source": [
    "model_adaboost = AdaBoostRegressor(n_estimators=50, learning_rate=1.0, random_state=42)\n",
    "model_adaboost.fit(X_train, y_train)\n",
    "\n",
    "# Predict on the test set\n",
    "y_pred_adaboost = model_adaboost.predict(X_test)\n",
    "\n",
    "# Calculate evaluation metrics\n",
    "r2_adaboost = round(metrics.r2_score(y_test, y_pred_adaboost) * 100, 3)\n",
    "mse_adaboost = round(metrics.mean_squared_error(y_test, y_pred_adaboost),3)\n",
    "mae_adaboost = round(metrics.mean_absolute_error(y_test, y_pred_adaboost),3)\n",
    "rmse_adaboost = round(np.sqrt(mse_adaboost),3)\n",
    "\n",
    "# Create a DataFrame to store the evaluation metrics for AdaBoostRegressor\n",
    "metrics_adaboost = pd.DataFrame({'Model': ['AdaBoost Regression'],                            \n",
    "                                 'R-squared': [r2_adaboost],\n",
    "                                 'Mean Squared Error (MSE)': [mse_adaboost],\n",
    "                                 'Root Mean Squared Error (RMSE)': [rmse_adaboost],\n",
    "                                 'Mean Absolute Error (MAE)': [mae_adaboost]\n",
    "                                })\n",
    "\n",
    "# Display the DataFrame for AdaBoostRegressor\n",
    "metrics_adaboost"
   ]
  },
  {
   "cell_type": "markdown",
   "id": "ff37575a-5b22-4a59-a6a5-2aa081fd35b5",
   "metadata": {},
   "source": [
    "# **Extra trees Regressor**"
   ]
  },
  {
   "cell_type": "code",
   "execution_count": 15,
   "id": "28cf7d75-985c-4ef0-999c-f7368e06de7f",
   "metadata": {},
   "outputs": [
    {
     "data": {
      "text/html": [
       "<div>\n",
       "<style scoped>\n",
       "    .dataframe tbody tr th:only-of-type {\n",
       "        vertical-align: middle;\n",
       "    }\n",
       "\n",
       "    .dataframe tbody tr th {\n",
       "        vertical-align: top;\n",
       "    }\n",
       "\n",
       "    .dataframe thead th {\n",
       "        text-align: right;\n",
       "    }\n",
       "</style>\n",
       "<table border=\"1\" class=\"dataframe\">\n",
       "  <thead>\n",
       "    <tr style=\"text-align: right;\">\n",
       "      <th></th>\n",
       "      <th>Model</th>\n",
       "      <th>R-squared</th>\n",
       "      <th>Mean Squared Error (MSE)</th>\n",
       "      <th>Root Mean Squared Error (RMSE)</th>\n",
       "      <th>Mean Absolute Error (MAE)</th>\n",
       "    </tr>\n",
       "  </thead>\n",
       "  <tbody>\n",
       "    <tr>\n",
       "      <th>0</th>\n",
       "      <td>Extra Trees Regression</td>\n",
       "      <td>83.348</td>\n",
       "      <td>18.109</td>\n",
       "      <td>4.255</td>\n",
       "      <td>2.491</td>\n",
       "    </tr>\n",
       "  </tbody>\n",
       "</table>\n",
       "</div>"
      ],
      "text/plain": [
       "                    Model  R-squared  Mean Squared Error (MSE)  \\\n",
       "0  Extra Trees Regression     83.348                    18.109   \n",
       "\n",
       "   Root Mean Squared Error (RMSE)  Mean Absolute Error (MAE)  \n",
       "0                           4.255                      2.491  "
      ]
     },
     "execution_count": 15,
     "metadata": {},
     "output_type": "execute_result"
    }
   ],
   "source": [
    "model_extra_trees = ExtraTreesRegressor(n_estimators=50, max_depth=None, random_state=42)\n",
    "model_extra_trees.fit(X_train, y_train)\n",
    "\n",
    "# Predict on the test set\n",
    "y_pred_extra_trees = model_extra_trees.predict(X_test)\n",
    "\n",
    "# Calculate evaluation metrics\n",
    "r2_extra_trees = round(metrics.r2_score(y_test, y_pred_extra_trees) * 100, 3)\n",
    "mse_extra_trees = round(metrics.mean_squared_error(y_test, y_pred_extra_trees),3)\n",
    "mae_extra_trees = round(metrics.mean_absolute_error(y_test, y_pred_extra_trees),3)\n",
    "rmse_extra_trees = round(np.sqrt(mse_extra_trees),3)\n",
    "\n",
    "# Create a DataFrame to store the evaluation metrics for ExtraTreesRegressor\n",
    "metrics_extra_trees = pd.DataFrame({'Model': ['Extra Trees Regression'],                            \n",
    "                                    'R-squared': [r2_extra_trees],\n",
    "                                    'Mean Squared Error (MSE)': [mse_extra_trees],\n",
    "                                    'Root Mean Squared Error (RMSE)': [rmse_extra_trees],\n",
    "                                    'Mean Absolute Error (MAE)': [mae_extra_trees]\n",
    "                                   })\n",
    "\n",
    "# Display the DataFrame for ExtraTreesRegressor\n",
    "metrics_extra_trees"
   ]
  },
  {
   "cell_type": "markdown",
   "id": "3a64547f-9873-48e4-af64-2af66850c03f",
   "metadata": {},
   "source": [
    "# **Gradient_boosting**"
   ]
  },
  {
   "cell_type": "code",
   "execution_count": 16,
   "id": "e340c21f-e95a-4ea1-94ef-3be530ad9ef8",
   "metadata": {},
   "outputs": [
    {
     "data": {
      "text/html": [
       "<div>\n",
       "<style scoped>\n",
       "    .dataframe tbody tr th:only-of-type {\n",
       "        vertical-align: middle;\n",
       "    }\n",
       "\n",
       "    .dataframe tbody tr th {\n",
       "        vertical-align: top;\n",
       "    }\n",
       "\n",
       "    .dataframe thead th {\n",
       "        text-align: right;\n",
       "    }\n",
       "</style>\n",
       "<table border=\"1\" class=\"dataframe\">\n",
       "  <thead>\n",
       "    <tr style=\"text-align: right;\">\n",
       "      <th></th>\n",
       "      <th>Model</th>\n",
       "      <th>R-squared</th>\n",
       "      <th>Mean Squared Error (MSE)</th>\n",
       "      <th>Root Mean Squared Error (RMSE)</th>\n",
       "      <th>Mean Absolute Error (MAE)</th>\n",
       "    </tr>\n",
       "  </thead>\n",
       "  <tbody>\n",
       "    <tr>\n",
       "      <th>0</th>\n",
       "      <td>Gradient Boosting Regression</td>\n",
       "      <td>88.408</td>\n",
       "      <td>12.606</td>\n",
       "      <td>3.55</td>\n",
       "      <td>2.041</td>\n",
       "    </tr>\n",
       "  </tbody>\n",
       "</table>\n",
       "</div>"
      ],
      "text/plain": [
       "                          Model  R-squared  Mean Squared Error (MSE)  \\\n",
       "0  Gradient Boosting Regression     88.408                    12.606   \n",
       "\n",
       "   Root Mean Squared Error (RMSE)  Mean Absolute Error (MAE)  \n",
       "0                            3.55                      2.041  "
      ]
     },
     "execution_count": 16,
     "metadata": {},
     "output_type": "execute_result"
    }
   ],
   "source": [
    "model_gradient_boosting = GradientBoostingRegressor(n_estimators=100, learning_rate=0.1, max_depth=3, random_state=42)\n",
    "model_gradient_boosting.fit(X_train, y_train)\n",
    "\n",
    "# Predict on the test set\n",
    "y_pred_gradient_boosting = model_gradient_boosting.predict(X_test)\n",
    "\n",
    "# Calculate evaluation metrics\n",
    "r2_gradient_boosting = round(metrics.r2_score(y_test, y_pred_gradient_boosting) * 100, 3)\n",
    "mse_gradient_boosting = round(metrics.mean_squared_error(y_test, y_pred_gradient_boosting),3)\n",
    "mae_gradient_boosting = round(metrics.mean_absolute_error(y_test, y_pred_gradient_boosting),3)\n",
    "rmse_gradient_boosting = round(np.sqrt(mse_gradient_boosting),3)\n",
    "\n",
    "# Create a DataFrame to store the evaluation metrics for GradientBoostingRegressor\n",
    "metrics_gradient_boosting = pd.DataFrame({'Model': ['Gradient Boosting Regression'],                            \n",
    "                                          'R-squared': [r2_gradient_boosting],\n",
    "                                          'Mean Squared Error (MSE)': [mse_gradient_boosting],\n",
    "                                          'Root Mean Squared Error (RMSE)': [rmse_gradient_boosting],\n",
    "                                          'Mean Absolute Error (MAE)': [mae_gradient_boosting]\n",
    "                                         })\n",
    "\n",
    "# Display the DataFrame for GradientBoostingRegressor\n",
    "metrics_gradient_boosting"
   ]
  },
  {
   "cell_type": "markdown",
   "id": "b4e29b48-5a27-445d-9566-97bf7ed3fe35",
   "metadata": {},
   "source": [
    "# **Extreme Gradient Boosting (XGBoost)**"
   ]
  },
  {
   "cell_type": "code",
   "execution_count": 17,
   "id": "9cb6262b-9258-4d6c-98e3-3bcdc0843741",
   "metadata": {},
   "outputs": [
    {
     "data": {
      "text/html": [
       "<div>\n",
       "<style scoped>\n",
       "    .dataframe tbody tr th:only-of-type {\n",
       "        vertical-align: middle;\n",
       "    }\n",
       "\n",
       "    .dataframe tbody tr th {\n",
       "        vertical-align: top;\n",
       "    }\n",
       "\n",
       "    .dataframe thead th {\n",
       "        text-align: right;\n",
       "    }\n",
       "</style>\n",
       "<table border=\"1\" class=\"dataframe\">\n",
       "  <thead>\n",
       "    <tr style=\"text-align: right;\">\n",
       "      <th></th>\n",
       "      <th>Model</th>\n",
       "      <th>R-squared</th>\n",
       "      <th>Mean Squared Error (MSE)</th>\n",
       "      <th>Root Mean Squared Error (RMSE)</th>\n",
       "      <th>Mean Absolute Error (MAE)</th>\n",
       "    </tr>\n",
       "  </thead>\n",
       "  <tbody>\n",
       "    <tr>\n",
       "      <th>0</th>\n",
       "      <td>XGBoost Regression</td>\n",
       "      <td>88.304</td>\n",
       "      <td>12.719</td>\n",
       "      <td>3.566</td>\n",
       "      <td>2.047</td>\n",
       "    </tr>\n",
       "  </tbody>\n",
       "</table>\n",
       "</div>"
      ],
      "text/plain": [
       "                Model  R-squared  Mean Squared Error (MSE)  \\\n",
       "0  XGBoost Regression     88.304                    12.719   \n",
       "\n",
       "   Root Mean Squared Error (RMSE)  Mean Absolute Error (MAE)  \n",
       "0                           3.566                      2.047  "
      ]
     },
     "execution_count": 17,
     "metadata": {},
     "output_type": "execute_result"
    }
   ],
   "source": [
    "model_xgb = xgb.XGBRegressor(n_estimators=100, learning_rate=0.1, max_depth=3, random_state=42)\n",
    "model_xgb.fit(X_train, y_train)\n",
    "\n",
    "# Predict on the test set\n",
    "y_pred_xgb = model_xgb.predict(X_test)\n",
    "\n",
    "# Calculate evaluation metrics\n",
    "r2_xgb = round(metrics.r2_score(y_test, y_pred_xgb) * 100, 3)\n",
    "mse_xgb = round(metrics.mean_squared_error(y_test, y_pred_xgb),3)\n",
    "mae_xgb = round(metrics.mean_absolute_error(y_test, y_pred_xgb),3)\n",
    "rmse_xgb = round(np.sqrt(mse_xgb),3)\n",
    "\n",
    "# Create a DataFrame to store the evaluation metrics for XGBoostRegressor\n",
    "metrics_xgb = pd.DataFrame({'Model': ['XGBoost Regression'],                            \n",
    "                            'R-squared': [r2_xgb],\n",
    "                            'Mean Squared Error (MSE)': [mse_xgb],\n",
    "                            'Root Mean Squared Error (RMSE)': [rmse_xgb],\n",
    "                            'Mean Absolute Error (MAE)': [mae_xgb]\n",
    "                           })\n",
    "\n",
    "metrics_xgb"
   ]
  },
  {
   "cell_type": "markdown",
   "id": "752148e5-d569-4ee4-903d-d43498ecf83c",
   "metadata": {},
   "source": [
    "# **Decision Tree Regresssor**"
   ]
  },
  {
   "cell_type": "code",
   "execution_count": 18,
   "id": "e7713f16-0786-4f3c-b294-79eba3b29dce",
   "metadata": {},
   "outputs": [
    {
     "data": {
      "text/html": [
       "<div>\n",
       "<style scoped>\n",
       "    .dataframe tbody tr th:only-of-type {\n",
       "        vertical-align: middle;\n",
       "    }\n",
       "\n",
       "    .dataframe tbody tr th {\n",
       "        vertical-align: top;\n",
       "    }\n",
       "\n",
       "    .dataframe thead th {\n",
       "        text-align: right;\n",
       "    }\n",
       "</style>\n",
       "<table border=\"1\" class=\"dataframe\">\n",
       "  <thead>\n",
       "    <tr style=\"text-align: right;\">\n",
       "      <th></th>\n",
       "      <th>Model</th>\n",
       "      <th>R-squared</th>\n",
       "      <th>Mean Squared Error (MSE)</th>\n",
       "      <th>Root Mean Squared Error (RMSE)</th>\n",
       "      <th>Mean Absolute Error (MAE)</th>\n",
       "    </tr>\n",
       "  </thead>\n",
       "  <tbody>\n",
       "    <tr>\n",
       "      <th>0</th>\n",
       "      <td>Decision Tree Regression</td>\n",
       "      <td>80.206</td>\n",
       "      <td>21.525</td>\n",
       "      <td>4.64</td>\n",
       "      <td>2.703</td>\n",
       "    </tr>\n",
       "  </tbody>\n",
       "</table>\n",
       "</div>"
      ],
      "text/plain": [
       "                      Model  R-squared  Mean Squared Error (MSE)  \\\n",
       "0  Decision Tree Regression     80.206                    21.525   \n",
       "\n",
       "   Root Mean Squared Error (RMSE)  Mean Absolute Error (MAE)  \n",
       "0                            4.64                      2.703  "
      ]
     },
     "execution_count": 18,
     "metadata": {},
     "output_type": "execute_result"
    }
   ],
   "source": [
    "model_decision_tree = DecisionTreeRegressor(max_depth=None, random_state=42)\n",
    "model_decision_tree.fit(X_train, y_train)\n",
    "\n",
    "# Predict on the test set\n",
    "y_pred_decision_tree = model_decision_tree.predict(X_test)\n",
    "\n",
    "# Calculate evaluation metrics\n",
    "r2_decision_tree = round(metrics.r2_score(y_test, y_pred_decision_tree) * 100, 3)\n",
    "mse_decision_tree = round(metrics.mean_squared_error(y_test, y_pred_decision_tree),3)\n",
    "mae_decision_tree = round(metrics.mean_absolute_error(y_test, y_pred_decision_tree),3)\n",
    "rmse_decision_tree = round(np.sqrt(mse_decision_tree),3)\n",
    "\n",
    "# Create a DataFrame to store the evaluation metrics for DecisionTreeRegressor\n",
    "metrics_decision_tree = pd.DataFrame({'Model': ['Decision Tree Regression'],                            \n",
    "                                      'R-squared': [r2_decision_tree],\n",
    "                                      'Mean Squared Error (MSE)': [mse_decision_tree],\n",
    "                                      'Root Mean Squared Error (RMSE)': [rmse_decision_tree],\n",
    "                                      'Mean Absolute Error (MAE)': [mae_decision_tree]\n",
    "                                     })\n",
    "\n",
    "# Display the DataFrame for DecisionTreeRegressor\n",
    "metrics_decision_tree"
   ]
  },
  {
   "cell_type": "markdown",
   "id": "a13d3ebf-5d37-40aa-a1ef-4fc0b11556e0",
   "metadata": {},
   "source": [
    "## **Multi-layer Perceptron (MLP) regressor**"
   ]
  },
  {
   "cell_type": "code",
   "execution_count": 19,
   "id": "3c573096-1e51-4bee-96fb-770f20c0b102",
   "metadata": {},
   "outputs": [
    {
     "data": {
      "text/html": [
       "<div>\n",
       "<style scoped>\n",
       "    .dataframe tbody tr th:only-of-type {\n",
       "        vertical-align: middle;\n",
       "    }\n",
       "\n",
       "    .dataframe tbody tr th {\n",
       "        vertical-align: top;\n",
       "    }\n",
       "\n",
       "    .dataframe thead th {\n",
       "        text-align: right;\n",
       "    }\n",
       "</style>\n",
       "<table border=\"1\" class=\"dataframe\">\n",
       "  <thead>\n",
       "    <tr style=\"text-align: right;\">\n",
       "      <th></th>\n",
       "      <th>Model</th>\n",
       "      <th>R-squared</th>\n",
       "      <th>Mean Squared Error (MSE)</th>\n",
       "      <th>Root Mean Squared Error (RMSE)</th>\n",
       "      <th>Mean Absolute Error (MAE)</th>\n",
       "    </tr>\n",
       "  </thead>\n",
       "  <tbody>\n",
       "    <tr>\n",
       "      <th>0</th>\n",
       "      <td>MLP Regression</td>\n",
       "      <td>88.218</td>\n",
       "      <td>12.812</td>\n",
       "      <td>3.579</td>\n",
       "      <td>2.099</td>\n",
       "    </tr>\n",
       "  </tbody>\n",
       "</table>\n",
       "</div>"
      ],
      "text/plain": [
       "            Model  R-squared  Mean Squared Error (MSE)  \\\n",
       "0  MLP Regression     88.218                    12.812   \n",
       "\n",
       "   Root Mean Squared Error (RMSE)  Mean Absolute Error (MAE)  \n",
       "0                           3.579                      2.099  "
      ]
     },
     "execution_count": 19,
     "metadata": {},
     "output_type": "execute_result"
    }
   ],
   "source": [
    "model_mlp = MLPRegressor(hidden_layer_sizes=(100, ), alpha=0.0001, random_state=42)\n",
    "model_mlp.fit(X_train, y_train)\n",
    "\n",
    "# Predict on the test set\n",
    "y_pred_mlp = model_mlp.predict(X_test)\n",
    "\n",
    "# Calculate evaluation metrics\n",
    "r2_mlp = round(metrics.r2_score(y_test, y_pred_mlp) * 100, 3)\n",
    "mse_mlp = round(metrics.mean_squared_error(y_test, y_pred_mlp),3)\n",
    "mae_mlp = round(metrics.mean_absolute_error(y_test, y_pred_mlp),3)\n",
    "rmse_mlp = round(np.sqrt(mse_mlp),3)\n",
    "\n",
    "# Create a DataFrame to store the evaluation metrics for MLPRegressor\n",
    "metrics_mlp = pd.DataFrame({'Model': ['MLP Regression'],                            \n",
    "                            'R-squared': [r2_mlp],\n",
    "                            'Mean Squared Error (MSE)': [mse_mlp],\n",
    "                            'Root Mean Squared Error (RMSE)': [rmse_mlp],\n",
    "                            'Mean Absolute Error (MAE)': [mae_mlp]\n",
    "                           })\n",
    "\n",
    "# Display the DataFrame for MLPRegressor\n",
    "metrics_mlp"
   ]
  },
  {
   "cell_type": "markdown",
   "id": "220a9e1d-3a43-42fb-9c9a-c7284050fe8c",
   "metadata": {},
   "source": [
    "# Concatenate the metrics DataFrames of all models"
   ]
  },
  {
   "cell_type": "code",
   "execution_count": 20,
   "id": "d0dd9207-a032-4ade-9973-c5cc30668d08",
   "metadata": {},
   "outputs": [
    {
     "data": {
      "text/html": [
       "<div>\n",
       "<style scoped>\n",
       "    .dataframe tbody tr th:only-of-type {\n",
       "        vertical-align: middle;\n",
       "    }\n",
       "\n",
       "    .dataframe tbody tr th {\n",
       "        vertical-align: top;\n",
       "    }\n",
       "\n",
       "    .dataframe thead th {\n",
       "        text-align: right;\n",
       "    }\n",
       "</style>\n",
       "<table border=\"1\" class=\"dataframe\">\n",
       "  <thead>\n",
       "    <tr style=\"text-align: right;\">\n",
       "      <th></th>\n",
       "      <th>Model</th>\n",
       "      <th>R-squared</th>\n",
       "      <th>Mean Squared Error (MSE)</th>\n",
       "      <th>Root Mean Squared Error (RMSE)</th>\n",
       "      <th>Mean Absolute Error (MAE)</th>\n",
       "    </tr>\n",
       "  </thead>\n",
       "  <tbody>\n",
       "    <tr>\n",
       "      <th>0</th>\n",
       "      <td>Gradient Boosting Regression</td>\n",
       "      <td>88.408</td>\n",
       "      <td>12.606</td>\n",
       "      <td>3.550</td>\n",
       "      <td>2.041</td>\n",
       "    </tr>\n",
       "    <tr>\n",
       "      <th>1</th>\n",
       "      <td>XGBoost Regression</td>\n",
       "      <td>88.304</td>\n",
       "      <td>12.719</td>\n",
       "      <td>3.566</td>\n",
       "      <td>2.047</td>\n",
       "    </tr>\n",
       "    <tr>\n",
       "      <th>2</th>\n",
       "      <td>MLP Regression</td>\n",
       "      <td>88.218</td>\n",
       "      <td>12.812</td>\n",
       "      <td>3.579</td>\n",
       "      <td>2.099</td>\n",
       "    </tr>\n",
       "    <tr>\n",
       "      <th>3</th>\n",
       "      <td>Linear Regression</td>\n",
       "      <td>86.826</td>\n",
       "      <td>14.326</td>\n",
       "      <td>3.785</td>\n",
       "      <td>2.134</td>\n",
       "    </tr>\n",
       "    <tr>\n",
       "      <th>4</th>\n",
       "      <td>Ridge Regression</td>\n",
       "      <td>86.826</td>\n",
       "      <td>14.326</td>\n",
       "      <td>3.785</td>\n",
       "      <td>2.134</td>\n",
       "    </tr>\n",
       "    <tr>\n",
       "      <th>5</th>\n",
       "      <td>Lasso Regression</td>\n",
       "      <td>86.826</td>\n",
       "      <td>14.326</td>\n",
       "      <td>3.785</td>\n",
       "      <td>2.134</td>\n",
       "    </tr>\n",
       "    <tr>\n",
       "      <th>6</th>\n",
       "      <td>Random Forest Regression</td>\n",
       "      <td>84.951</td>\n",
       "      <td>16.365</td>\n",
       "      <td>4.045</td>\n",
       "      <td>2.364</td>\n",
       "    </tr>\n",
       "    <tr>\n",
       "      <th>7</th>\n",
       "      <td>Extra Trees Regression</td>\n",
       "      <td>83.348</td>\n",
       "      <td>18.109</td>\n",
       "      <td>4.255</td>\n",
       "      <td>2.491</td>\n",
       "    </tr>\n",
       "    <tr>\n",
       "      <th>8</th>\n",
       "      <td>Decision Tree Regression</td>\n",
       "      <td>80.206</td>\n",
       "      <td>21.525</td>\n",
       "      <td>4.640</td>\n",
       "      <td>2.703</td>\n",
       "    </tr>\n",
       "    <tr>\n",
       "      <th>9</th>\n",
       "      <td>ElasticNet Regression</td>\n",
       "      <td>80.019</td>\n",
       "      <td>21.729</td>\n",
       "      <td>4.661</td>\n",
       "      <td>2.950</td>\n",
       "    </tr>\n",
       "    <tr>\n",
       "      <th>10</th>\n",
       "      <td>AdaBoost Regression</td>\n",
       "      <td>36.111</td>\n",
       "      <td>69.478</td>\n",
       "      <td>8.335</td>\n",
       "      <td>6.347</td>\n",
       "    </tr>\n",
       "  </tbody>\n",
       "</table>\n",
       "</div>"
      ],
      "text/plain": [
       "                           Model  R-squared  Mean Squared Error (MSE)  \\\n",
       "0   Gradient Boosting Regression     88.408                    12.606   \n",
       "1             XGBoost Regression     88.304                    12.719   \n",
       "2                 MLP Regression     88.218                    12.812   \n",
       "3              Linear Regression     86.826                    14.326   \n",
       "4               Ridge Regression     86.826                    14.326   \n",
       "5               Lasso Regression     86.826                    14.326   \n",
       "6       Random Forest Regression     84.951                    16.365   \n",
       "7         Extra Trees Regression     83.348                    18.109   \n",
       "8       Decision Tree Regression     80.206                    21.525   \n",
       "9          ElasticNet Regression     80.019                    21.729   \n",
       "10           AdaBoost Regression     36.111                    69.478   \n",
       "\n",
       "    Root Mean Squared Error (RMSE)  Mean Absolute Error (MAE)  \n",
       "0                            3.550                      2.041  \n",
       "1                            3.566                      2.047  \n",
       "2                            3.579                      2.099  \n",
       "3                            3.785                      2.134  \n",
       "4                            3.785                      2.134  \n",
       "5                            3.785                      2.134  \n",
       "6                            4.045                      2.364  \n",
       "7                            4.255                      2.491  \n",
       "8                            4.640                      2.703  \n",
       "9                            4.661                      2.950  \n",
       "10                           8.335                      6.347  "
      ]
     },
     "execution_count": 20,
     "metadata": {},
     "output_type": "execute_result"
    }
   ],
   "source": [
    "# Concatenate all the metrics DataFrames\n",
    "comparision_metrics = pd.concat([metrics_lin, metrics_ridge, metrics_lasso, metrics_elasticnet, \n",
    "                         metrics_rf, metrics_adaboost, metrics_extra_trees, metrics_gradient_boosting, \n",
    "                         metrics_decision_tree, metrics_mlp, metrics_xgb], ignore_index=False)\n",
    "\n",
    "comparision_metrics_sorted = comparision_metrics .sort_values(by='R-squared', ascending=False).reset_index(drop=True)\n",
    "\n",
    "comparision_metrics_sorted\n"
   ]
  },
  {
   "cell_type": "markdown",
   "id": "821f343e-1492-4a79-8ab1-44e542cdd5c2",
   "metadata": {},
   "source": [
    "# **Conclusion :**\n",
    "\n",
    "To determine the best model from the provided metrics, we typically look for the model with the highest R-squared value and the lowest values for Mean Squared Error (MSE), Root Mean Squared Error (RMSE), and Mean Absolute Error (MAE).\n",
    "\n",
    "From the given metrics, the best model appears to be the Gradient Boosting Regression model:\n",
    "\n",
    "    R-squared: 88.408 (highest among all models)\n",
    "    Mean Squared Error (MSE): 12.606 (among the lowest)\n",
    "    Root Mean Squared Error (RMSE): 3.550 (among the lowest)\n",
    "    Mean Absolute Error (MAE): 2.041 (among the lowest)\n",
    "\n",
    "So, based on these metrics, the Gradient Boosting Regression model outperforms the others."
   ]
  },
  {
   "cell_type": "code",
   "execution_count": 22,
   "id": "e3435fde-c027-4e51-8647-4767c9f7e988",
   "metadata": {},
   "outputs": [
    {
     "data": {
      "application/vnd.plotly.v1+json": {
       "config": {
        "plotlyServerURL": "https://plot.ly"
       },
       "data": [
        {
         "alignmentgroup": "True",
         "hovertemplate": "Model=%{x}<br>R-squared=%{text}<extra></extra>",
         "legendgroup": "Gradient Boosting Regression",
         "marker": {
          "color": "#636efa",
          "pattern": {
           "shape": ""
          }
         },
         "name": "Gradient Boosting Regression",
         "offsetgroup": "Gradient Boosting Regression",
         "orientation": "v",
         "showlegend": true,
         "text": [
          88.408
         ],
         "textposition": "auto",
         "type": "bar",
         "x": [
          "Gradient Boosting Regression"
         ],
         "xaxis": "x",
         "y": [
          88.408
         ],
         "yaxis": "y"
        },
        {
         "alignmentgroup": "True",
         "hovertemplate": "Model=%{x}<br>R-squared=%{text}<extra></extra>",
         "legendgroup": "XGBoost Regression",
         "marker": {
          "color": "#EF553B",
          "pattern": {
           "shape": ""
          }
         },
         "name": "XGBoost Regression",
         "offsetgroup": "XGBoost Regression",
         "orientation": "v",
         "showlegend": true,
         "text": [
          88.304
         ],
         "textposition": "auto",
         "type": "bar",
         "x": [
          "XGBoost Regression"
         ],
         "xaxis": "x",
         "y": [
          88.304
         ],
         "yaxis": "y"
        },
        {
         "alignmentgroup": "True",
         "hovertemplate": "Model=%{x}<br>R-squared=%{text}<extra></extra>",
         "legendgroup": "MLP Regression",
         "marker": {
          "color": "#00cc96",
          "pattern": {
           "shape": ""
          }
         },
         "name": "MLP Regression",
         "offsetgroup": "MLP Regression",
         "orientation": "v",
         "showlegend": true,
         "text": [
          88.218
         ],
         "textposition": "auto",
         "type": "bar",
         "x": [
          "MLP Regression"
         ],
         "xaxis": "x",
         "y": [
          88.218
         ],
         "yaxis": "y"
        },
        {
         "alignmentgroup": "True",
         "hovertemplate": "Model=%{x}<br>R-squared=%{text}<extra></extra>",
         "legendgroup": "Linear Regression",
         "marker": {
          "color": "#ab63fa",
          "pattern": {
           "shape": ""
          }
         },
         "name": "Linear Regression",
         "offsetgroup": "Linear Regression",
         "orientation": "v",
         "showlegend": true,
         "text": [
          86.826
         ],
         "textposition": "auto",
         "type": "bar",
         "x": [
          "Linear Regression"
         ],
         "xaxis": "x",
         "y": [
          86.826
         ],
         "yaxis": "y"
        },
        {
         "alignmentgroup": "True",
         "hovertemplate": "Model=%{x}<br>R-squared=%{text}<extra></extra>",
         "legendgroup": "Ridge Regression",
         "marker": {
          "color": "#FFA15A",
          "pattern": {
           "shape": ""
          }
         },
         "name": "Ridge Regression",
         "offsetgroup": "Ridge Regression",
         "orientation": "v",
         "showlegend": true,
         "text": [
          86.826
         ],
         "textposition": "auto",
         "type": "bar",
         "x": [
          "Ridge Regression"
         ],
         "xaxis": "x",
         "y": [
          86.826
         ],
         "yaxis": "y"
        },
        {
         "alignmentgroup": "True",
         "hovertemplate": "Model=%{x}<br>R-squared=%{text}<extra></extra>",
         "legendgroup": "Lasso Regression",
         "marker": {
          "color": "#19d3f3",
          "pattern": {
           "shape": ""
          }
         },
         "name": "Lasso Regression",
         "offsetgroup": "Lasso Regression",
         "orientation": "v",
         "showlegend": true,
         "text": [
          86.826
         ],
         "textposition": "auto",
         "type": "bar",
         "x": [
          "Lasso Regression"
         ],
         "xaxis": "x",
         "y": [
          86.826
         ],
         "yaxis": "y"
        },
        {
         "alignmentgroup": "True",
         "hovertemplate": "Model=%{x}<br>R-squared=%{text}<extra></extra>",
         "legendgroup": "Random Forest Regression",
         "marker": {
          "color": "#FF6692",
          "pattern": {
           "shape": ""
          }
         },
         "name": "Random Forest Regression",
         "offsetgroup": "Random Forest Regression",
         "orientation": "v",
         "showlegend": true,
         "text": [
          84.951
         ],
         "textposition": "auto",
         "type": "bar",
         "x": [
          "Random Forest Regression"
         ],
         "xaxis": "x",
         "y": [
          84.951
         ],
         "yaxis": "y"
        },
        {
         "alignmentgroup": "True",
         "hovertemplate": "Model=%{x}<br>R-squared=%{text}<extra></extra>",
         "legendgroup": "Extra Trees Regression",
         "marker": {
          "color": "#B6E880",
          "pattern": {
           "shape": ""
          }
         },
         "name": "Extra Trees Regression",
         "offsetgroup": "Extra Trees Regression",
         "orientation": "v",
         "showlegend": true,
         "text": [
          83.348
         ],
         "textposition": "auto",
         "type": "bar",
         "x": [
          "Extra Trees Regression"
         ],
         "xaxis": "x",
         "y": [
          83.348
         ],
         "yaxis": "y"
        },
        {
         "alignmentgroup": "True",
         "hovertemplate": "Model=%{x}<br>R-squared=%{text}<extra></extra>",
         "legendgroup": "Decision Tree Regression",
         "marker": {
          "color": "#FF97FF",
          "pattern": {
           "shape": ""
          }
         },
         "name": "Decision Tree Regression",
         "offsetgroup": "Decision Tree Regression",
         "orientation": "v",
         "showlegend": true,
         "text": [
          80.206
         ],
         "textposition": "auto",
         "type": "bar",
         "x": [
          "Decision Tree Regression"
         ],
         "xaxis": "x",
         "y": [
          80.206
         ],
         "yaxis": "y"
        },
        {
         "alignmentgroup": "True",
         "hovertemplate": "Model=%{x}<br>R-squared=%{text}<extra></extra>",
         "legendgroup": "ElasticNet Regression",
         "marker": {
          "color": "#FECB52",
          "pattern": {
           "shape": ""
          }
         },
         "name": "ElasticNet Regression",
         "offsetgroup": "ElasticNet Regression",
         "orientation": "v",
         "showlegend": true,
         "text": [
          80.019
         ],
         "textposition": "auto",
         "type": "bar",
         "x": [
          "ElasticNet Regression"
         ],
         "xaxis": "x",
         "y": [
          80.019
         ],
         "yaxis": "y"
        },
        {
         "alignmentgroup": "True",
         "hovertemplate": "Model=%{x}<br>R-squared=%{text}<extra></extra>",
         "legendgroup": "AdaBoost Regression",
         "marker": {
          "color": "#636efa",
          "pattern": {
           "shape": ""
          }
         },
         "name": "AdaBoost Regression",
         "offsetgroup": "AdaBoost Regression",
         "orientation": "v",
         "showlegend": true,
         "text": [
          36.111
         ],
         "textposition": "auto",
         "type": "bar",
         "x": [
          "AdaBoost Regression"
         ],
         "xaxis": "x",
         "y": [
          36.111
         ],
         "yaxis": "y"
        }
       ],
       "layout": {
        "autosize": true,
        "barmode": "relative",
        "legend": {
         "title": {
          "text": "Model"
         },
         "tracegroupgap": 0
        },
        "template": {
         "data": {
          "bar": [
           {
            "error_x": {
             "color": "#f2f5fa"
            },
            "error_y": {
             "color": "#f2f5fa"
            },
            "marker": {
             "line": {
              "color": "rgb(17,17,17)",
              "width": 0.5
             },
             "pattern": {
              "fillmode": "overlay",
              "size": 10,
              "solidity": 0.2
             }
            },
            "type": "bar"
           }
          ],
          "barpolar": [
           {
            "marker": {
             "line": {
              "color": "rgb(17,17,17)",
              "width": 0.5
             },
             "pattern": {
              "fillmode": "overlay",
              "size": 10,
              "solidity": 0.2
             }
            },
            "type": "barpolar"
           }
          ],
          "carpet": [
           {
            "aaxis": {
             "endlinecolor": "#A2B1C6",
             "gridcolor": "#506784",
             "linecolor": "#506784",
             "minorgridcolor": "#506784",
             "startlinecolor": "#A2B1C6"
            },
            "baxis": {
             "endlinecolor": "#A2B1C6",
             "gridcolor": "#506784",
             "linecolor": "#506784",
             "minorgridcolor": "#506784",
             "startlinecolor": "#A2B1C6"
            },
            "type": "carpet"
           }
          ],
          "choropleth": [
           {
            "colorbar": {
             "outlinewidth": 0,
             "ticks": ""
            },
            "type": "choropleth"
           }
          ],
          "contour": [
           {
            "colorbar": {
             "outlinewidth": 0,
             "ticks": ""
            },
            "colorscale": [
             [
              0,
              "#0d0887"
             ],
             [
              0.1111111111111111,
              "#46039f"
             ],
             [
              0.2222222222222222,
              "#7201a8"
             ],
             [
              0.3333333333333333,
              "#9c179e"
             ],
             [
              0.4444444444444444,
              "#bd3786"
             ],
             [
              0.5555555555555556,
              "#d8576b"
             ],
             [
              0.6666666666666666,
              "#ed7953"
             ],
             [
              0.7777777777777778,
              "#fb9f3a"
             ],
             [
              0.8888888888888888,
              "#fdca26"
             ],
             [
              1,
              "#f0f921"
             ]
            ],
            "type": "contour"
           }
          ],
          "contourcarpet": [
           {
            "colorbar": {
             "outlinewidth": 0,
             "ticks": ""
            },
            "type": "contourcarpet"
           }
          ],
          "heatmap": [
           {
            "colorbar": {
             "outlinewidth": 0,
             "ticks": ""
            },
            "colorscale": [
             [
              0,
              "#0d0887"
             ],
             [
              0.1111111111111111,
              "#46039f"
             ],
             [
              0.2222222222222222,
              "#7201a8"
             ],
             [
              0.3333333333333333,
              "#9c179e"
             ],
             [
              0.4444444444444444,
              "#bd3786"
             ],
             [
              0.5555555555555556,
              "#d8576b"
             ],
             [
              0.6666666666666666,
              "#ed7953"
             ],
             [
              0.7777777777777778,
              "#fb9f3a"
             ],
             [
              0.8888888888888888,
              "#fdca26"
             ],
             [
              1,
              "#f0f921"
             ]
            ],
            "type": "heatmap"
           }
          ],
          "heatmapgl": [
           {
            "colorbar": {
             "outlinewidth": 0,
             "ticks": ""
            },
            "colorscale": [
             [
              0,
              "#0d0887"
             ],
             [
              0.1111111111111111,
              "#46039f"
             ],
             [
              0.2222222222222222,
              "#7201a8"
             ],
             [
              0.3333333333333333,
              "#9c179e"
             ],
             [
              0.4444444444444444,
              "#bd3786"
             ],
             [
              0.5555555555555556,
              "#d8576b"
             ],
             [
              0.6666666666666666,
              "#ed7953"
             ],
             [
              0.7777777777777778,
              "#fb9f3a"
             ],
             [
              0.8888888888888888,
              "#fdca26"
             ],
             [
              1,
              "#f0f921"
             ]
            ],
            "type": "heatmapgl"
           }
          ],
          "histogram": [
           {
            "marker": {
             "pattern": {
              "fillmode": "overlay",
              "size": 10,
              "solidity": 0.2
             }
            },
            "type": "histogram"
           }
          ],
          "histogram2d": [
           {
            "colorbar": {
             "outlinewidth": 0,
             "ticks": ""
            },
            "colorscale": [
             [
              0,
              "#0d0887"
             ],
             [
              0.1111111111111111,
              "#46039f"
             ],
             [
              0.2222222222222222,
              "#7201a8"
             ],
             [
              0.3333333333333333,
              "#9c179e"
             ],
             [
              0.4444444444444444,
              "#bd3786"
             ],
             [
              0.5555555555555556,
              "#d8576b"
             ],
             [
              0.6666666666666666,
              "#ed7953"
             ],
             [
              0.7777777777777778,
              "#fb9f3a"
             ],
             [
              0.8888888888888888,
              "#fdca26"
             ],
             [
              1,
              "#f0f921"
             ]
            ],
            "type": "histogram2d"
           }
          ],
          "histogram2dcontour": [
           {
            "colorbar": {
             "outlinewidth": 0,
             "ticks": ""
            },
            "colorscale": [
             [
              0,
              "#0d0887"
             ],
             [
              0.1111111111111111,
              "#46039f"
             ],
             [
              0.2222222222222222,
              "#7201a8"
             ],
             [
              0.3333333333333333,
              "#9c179e"
             ],
             [
              0.4444444444444444,
              "#bd3786"
             ],
             [
              0.5555555555555556,
              "#d8576b"
             ],
             [
              0.6666666666666666,
              "#ed7953"
             ],
             [
              0.7777777777777778,
              "#fb9f3a"
             ],
             [
              0.8888888888888888,
              "#fdca26"
             ],
             [
              1,
              "#f0f921"
             ]
            ],
            "type": "histogram2dcontour"
           }
          ],
          "mesh3d": [
           {
            "colorbar": {
             "outlinewidth": 0,
             "ticks": ""
            },
            "type": "mesh3d"
           }
          ],
          "parcoords": [
           {
            "line": {
             "colorbar": {
              "outlinewidth": 0,
              "ticks": ""
             }
            },
            "type": "parcoords"
           }
          ],
          "pie": [
           {
            "automargin": true,
            "type": "pie"
           }
          ],
          "scatter": [
           {
            "marker": {
             "line": {
              "color": "#283442"
             }
            },
            "type": "scatter"
           }
          ],
          "scatter3d": [
           {
            "line": {
             "colorbar": {
              "outlinewidth": 0,
              "ticks": ""
             }
            },
            "marker": {
             "colorbar": {
              "outlinewidth": 0,
              "ticks": ""
             }
            },
            "type": "scatter3d"
           }
          ],
          "scattercarpet": [
           {
            "marker": {
             "colorbar": {
              "outlinewidth": 0,
              "ticks": ""
             }
            },
            "type": "scattercarpet"
           }
          ],
          "scattergeo": [
           {
            "marker": {
             "colorbar": {
              "outlinewidth": 0,
              "ticks": ""
             }
            },
            "type": "scattergeo"
           }
          ],
          "scattergl": [
           {
            "marker": {
             "line": {
              "color": "#283442"
             }
            },
            "type": "scattergl"
           }
          ],
          "scattermapbox": [
           {
            "marker": {
             "colorbar": {
              "outlinewidth": 0,
              "ticks": ""
             }
            },
            "type": "scattermapbox"
           }
          ],
          "scatterpolar": [
           {
            "marker": {
             "colorbar": {
              "outlinewidth": 0,
              "ticks": ""
             }
            },
            "type": "scatterpolar"
           }
          ],
          "scatterpolargl": [
           {
            "marker": {
             "colorbar": {
              "outlinewidth": 0,
              "ticks": ""
             }
            },
            "type": "scatterpolargl"
           }
          ],
          "scatterternary": [
           {
            "marker": {
             "colorbar": {
              "outlinewidth": 0,
              "ticks": ""
             }
            },
            "type": "scatterternary"
           }
          ],
          "surface": [
           {
            "colorbar": {
             "outlinewidth": 0,
             "ticks": ""
            },
            "colorscale": [
             [
              0,
              "#0d0887"
             ],
             [
              0.1111111111111111,
              "#46039f"
             ],
             [
              0.2222222222222222,
              "#7201a8"
             ],
             [
              0.3333333333333333,
              "#9c179e"
             ],
             [
              0.4444444444444444,
              "#bd3786"
             ],
             [
              0.5555555555555556,
              "#d8576b"
             ],
             [
              0.6666666666666666,
              "#ed7953"
             ],
             [
              0.7777777777777778,
              "#fb9f3a"
             ],
             [
              0.8888888888888888,
              "#fdca26"
             ],
             [
              1,
              "#f0f921"
             ]
            ],
            "type": "surface"
           }
          ],
          "table": [
           {
            "cells": {
             "fill": {
              "color": "#506784"
             },
             "line": {
              "color": "rgb(17,17,17)"
             }
            },
            "header": {
             "fill": {
              "color": "#2a3f5f"
             },
             "line": {
              "color": "rgb(17,17,17)"
             }
            },
            "type": "table"
           }
          ]
         },
         "layout": {
          "annotationdefaults": {
           "arrowcolor": "#f2f5fa",
           "arrowhead": 0,
           "arrowwidth": 1
          },
          "autotypenumbers": "strict",
          "coloraxis": {
           "colorbar": {
            "outlinewidth": 0,
            "ticks": ""
           }
          },
          "colorscale": {
           "diverging": [
            [
             0,
             "#8e0152"
            ],
            [
             0.1,
             "#c51b7d"
            ],
            [
             0.2,
             "#de77ae"
            ],
            [
             0.3,
             "#f1b6da"
            ],
            [
             0.4,
             "#fde0ef"
            ],
            [
             0.5,
             "#f7f7f7"
            ],
            [
             0.6,
             "#e6f5d0"
            ],
            [
             0.7,
             "#b8e186"
            ],
            [
             0.8,
             "#7fbc41"
            ],
            [
             0.9,
             "#4d9221"
            ],
            [
             1,
             "#276419"
            ]
           ],
           "sequential": [
            [
             0,
             "#0d0887"
            ],
            [
             0.1111111111111111,
             "#46039f"
            ],
            [
             0.2222222222222222,
             "#7201a8"
            ],
            [
             0.3333333333333333,
             "#9c179e"
            ],
            [
             0.4444444444444444,
             "#bd3786"
            ],
            [
             0.5555555555555556,
             "#d8576b"
            ],
            [
             0.6666666666666666,
             "#ed7953"
            ],
            [
             0.7777777777777778,
             "#fb9f3a"
            ],
            [
             0.8888888888888888,
             "#fdca26"
            ],
            [
             1,
             "#f0f921"
            ]
           ],
           "sequentialminus": [
            [
             0,
             "#0d0887"
            ],
            [
             0.1111111111111111,
             "#46039f"
            ],
            [
             0.2222222222222222,
             "#7201a8"
            ],
            [
             0.3333333333333333,
             "#9c179e"
            ],
            [
             0.4444444444444444,
             "#bd3786"
            ],
            [
             0.5555555555555556,
             "#d8576b"
            ],
            [
             0.6666666666666666,
             "#ed7953"
            ],
            [
             0.7777777777777778,
             "#fb9f3a"
            ],
            [
             0.8888888888888888,
             "#fdca26"
            ],
            [
             1,
             "#f0f921"
            ]
           ]
          },
          "colorway": [
           "#636efa",
           "#EF553B",
           "#00cc96",
           "#ab63fa",
           "#FFA15A",
           "#19d3f3",
           "#FF6692",
           "#B6E880",
           "#FF97FF",
           "#FECB52"
          ],
          "font": {
           "color": "#f2f5fa"
          },
          "geo": {
           "bgcolor": "rgb(17,17,17)",
           "lakecolor": "rgb(17,17,17)",
           "landcolor": "rgb(17,17,17)",
           "showlakes": true,
           "showland": true,
           "subunitcolor": "#506784"
          },
          "hoverlabel": {
           "align": "left"
          },
          "hovermode": "closest",
          "mapbox": {
           "style": "dark"
          },
          "paper_bgcolor": "rgb(17,17,17)",
          "plot_bgcolor": "rgb(17,17,17)",
          "polar": {
           "angularaxis": {
            "gridcolor": "#506784",
            "linecolor": "#506784",
            "ticks": ""
           },
           "bgcolor": "rgb(17,17,17)",
           "radialaxis": {
            "gridcolor": "#506784",
            "linecolor": "#506784",
            "ticks": ""
           }
          },
          "scene": {
           "xaxis": {
            "backgroundcolor": "rgb(17,17,17)",
            "gridcolor": "#506784",
            "gridwidth": 2,
            "linecolor": "#506784",
            "showbackground": true,
            "ticks": "",
            "zerolinecolor": "#C8D4E3"
           },
           "yaxis": {
            "backgroundcolor": "rgb(17,17,17)",
            "gridcolor": "#506784",
            "gridwidth": 2,
            "linecolor": "#506784",
            "showbackground": true,
            "ticks": "",
            "zerolinecolor": "#C8D4E3"
           },
           "zaxis": {
            "backgroundcolor": "rgb(17,17,17)",
            "gridcolor": "#506784",
            "gridwidth": 2,
            "linecolor": "#506784",
            "showbackground": true,
            "ticks": "",
            "zerolinecolor": "#C8D4E3"
           }
          },
          "shapedefaults": {
           "line": {
            "color": "#f2f5fa"
           }
          },
          "sliderdefaults": {
           "bgcolor": "#C8D4E3",
           "bordercolor": "rgb(17,17,17)",
           "borderwidth": 1,
           "tickwidth": 0
          },
          "ternary": {
           "aaxis": {
            "gridcolor": "#506784",
            "linecolor": "#506784",
            "ticks": ""
           },
           "baxis": {
            "gridcolor": "#506784",
            "linecolor": "#506784",
            "ticks": ""
           },
           "bgcolor": "rgb(17,17,17)",
           "caxis": {
            "gridcolor": "#506784",
            "linecolor": "#506784",
            "ticks": ""
           }
          },
          "title": {
           "x": 0.05
          },
          "updatemenudefaults": {
           "bgcolor": "#506784",
           "borderwidth": 0
          },
          "xaxis": {
           "automargin": true,
           "gridcolor": "#283442",
           "linecolor": "#506784",
           "ticks": "",
           "title": {
            "standoff": 15
           },
           "zerolinecolor": "#283442",
           "zerolinewidth": 2
          },
          "yaxis": {
           "automargin": true,
           "gridcolor": "#283442",
           "linecolor": "#506784",
           "ticks": "",
           "title": {
            "standoff": 15
           },
           "zerolinecolor": "#283442",
           "zerolinewidth": 2
          }
         }
        },
        "title": {
         "text": "R-squared  of Different Models"
        },
        "xaxis": {
         "anchor": "y",
         "autorange": true,
         "categoryarray": [
          "Gradient Boosting Regression",
          "XGBoost Regression",
          "MLP Regression",
          "Linear Regression",
          "Ridge Regression",
          "Lasso Regression",
          "Random Forest Regression",
          "Extra Trees Regression",
          "Decision Tree Regression",
          "ElasticNet Regression",
          "AdaBoost Regression"
         ],
         "categoryorder": "array",
         "domain": [
          0,
          1
         ],
         "range": [
          -0.5,
          10.5
         ],
         "title": {
          "text": "Model"
         },
         "type": "category"
        },
        "yaxis": {
         "anchor": "x",
         "autorange": true,
         "domain": [
          0,
          1
         ],
         "range": [
          0,
          93.06105263157895
         ],
         "title": {
          "text": "R-squared"
         },
         "type": "linear"
        }
       }
      },
      "image/png": "[encoded data removed]",
      "text/html": [
       "<div>                            <div id=\"c3cc213c-2239-4199-b834-75e82b46d61c\" class=\"plotly-graph-div\" style=\"height:800px; width:100%;\"></div>            <script type=\"text/javascript\">                require([\"plotly\"], function(Plotly) {                    window.PLOTLYENV=window.PLOTLYENV || {};                                    if (document.getElementById(\"c3cc213c-2239-4199-b834-75e82b46d61c\")) {                    Plotly.newPlot(                        \"c3cc213c-2239-4199-b834-75e82b46d61c\",                        [{\"alignmentgroup\":\"True\",\"hovertemplate\":\"Model=%{x}<br>R-squared=%{text}<extra></extra>\",\"legendgroup\":\"Gradient Boosting Regression\",\"marker\":{\"color\":\"#636efa\",\"pattern\":{\"shape\":\"\"}},\"name\":\"Gradient Boosting Regression\",\"offsetgroup\":\"Gradient Boosting Regression\",\"orientation\":\"v\",\"showlegend\":true,\"text\":[88.408],\"textposition\":\"auto\",\"x\":[\"Gradient Boosting Regression\"],\"xaxis\":\"x\",\"y\":[88.408],\"yaxis\":\"y\",\"type\":\"bar\"},{\"alignmentgroup\":\"True\",\"hovertemplate\":\"Model=%{x}<br>R-squared=%{text}<extra></extra>\",\"legendgroup\":\"XGBoost Regression\",\"marker\":{\"color\":\"#EF553B\",\"pattern\":{\"shape\":\"\"}},\"name\":\"XGBoost Regression\",\"offsetgroup\":\"XGBoost Regression\",\"orientation\":\"v\",\"showlegend\":true,\"text\":[88.304],\"textposition\":\"auto\",\"x\":[\"XGBoost Regression\"],\"xaxis\":\"x\",\"y\":[88.304],\"yaxis\":\"y\",\"type\":\"bar\"},{\"alignmentgroup\":\"True\",\"hovertemplate\":\"Model=%{x}<br>R-squared=%{text}<extra></extra>\",\"legendgroup\":\"MLP Regression\",\"marker\":{\"color\":\"#00cc96\",\"pattern\":{\"shape\":\"\"}},\"name\":\"MLP Regression\",\"offsetgroup\":\"MLP Regression\",\"orientation\":\"v\",\"showlegend\":true,\"text\":[88.218],\"textposition\":\"auto\",\"x\":[\"MLP Regression\"],\"xaxis\":\"x\",\"y\":[88.218],\"yaxis\":\"y\",\"type\":\"bar\"},{\"alignmentgroup\":\"True\",\"hovertemplate\":\"Model=%{x}<br>R-squared=%{text}<extra></extra>\",\"legendgroup\":\"Linear Regression\",\"marker\":{\"color\":\"#ab63fa\",\"pattern\":{\"shape\":\"\"}},\"name\":\"Linear Regression\",\"offsetgroup\":\"Linear Regression\",\"orientation\":\"v\",\"showlegend\":true,\"text\":[86.826],\"textposition\":\"auto\",\"x\":[\"Linear Regression\"],\"xaxis\":\"x\",\"y\":[86.826],\"yaxis\":\"y\",\"type\":\"bar\"},{\"alignmentgroup\":\"True\",\"hovertemplate\":\"Model=%{x}<br>R-squared=%{text}<extra></extra>\",\"legendgroup\":\"Ridge Regression\",\"marker\":{\"color\":\"#FFA15A\",\"pattern\":{\"shape\":\"\"}},\"name\":\"Ridge Regression\",\"offsetgroup\":\"Ridge Regression\",\"orientation\":\"v\",\"showlegend\":true,\"text\":[86.826],\"textposition\":\"auto\",\"x\":[\"Ridge Regression\"],\"xaxis\":\"x\",\"y\":[86.826],\"yaxis\":\"y\",\"type\":\"bar\"},{\"alignmentgroup\":\"True\",\"hovertemplate\":\"Model=%{x}<br>R-squared=%{text}<extra></extra>\",\"legendgroup\":\"Lasso Regression\",\"marker\":{\"color\":\"#19d3f3\",\"pattern\":{\"shape\":\"\"}},\"name\":\"Lasso Regression\",\"offsetgroup\":\"Lasso Regression\",\"orientation\":\"v\",\"showlegend\":true,\"text\":[86.826],\"textposition\":\"auto\",\"x\":[\"Lasso Regression\"],\"xaxis\":\"x\",\"y\":[86.826],\"yaxis\":\"y\",\"type\":\"bar\"},{\"alignmentgroup\":\"True\",\"hovertemplate\":\"Model=%{x}<br>R-squared=%{text}<extra></extra>\",\"legendgroup\":\"Random Forest Regression\",\"marker\":{\"color\":\"#FF6692\",\"pattern\":{\"shape\":\"\"}},\"name\":\"Random Forest Regression\",\"offsetgroup\":\"Random Forest Regression\",\"orientation\":\"v\",\"showlegend\":true,\"text\":[84.951],\"textposition\":\"auto\",\"x\":[\"Random Forest Regression\"],\"xaxis\":\"x\",\"y\":[84.951],\"yaxis\":\"y\",\"type\":\"bar\"},{\"alignmentgroup\":\"True\",\"hovertemplate\":\"Model=%{x}<br>R-squared=%{text}<extra></extra>\",\"legendgroup\":\"Extra Trees Regression\",\"marker\":{\"color\":\"#B6E880\",\"pattern\":{\"shape\":\"\"}},\"name\":\"Extra Trees Regression\",\"offsetgroup\":\"Extra Trees Regression\",\"orientation\":\"v\",\"showlegend\":true,\"text\":[83.348],\"textposition\":\"auto\",\"x\":[\"Extra Trees Regression\"],\"xaxis\":\"x\",\"y\":[83.348],\"yaxis\":\"y\",\"type\":\"bar\"},{\"alignmentgroup\":\"True\",\"hovertemplate\":\"Model=%{x}<br>R-squared=%{text}<extra></extra>\",\"legendgroup\":\"Decision Tree Regression\",\"marker\":{\"color\":\"#FF97FF\",\"pattern\":{\"shape\":\"\"}},\"name\":\"Decision Tree Regression\",\"offsetgroup\":\"Decision Tree Regression\",\"orientation\":\"v\",\"showlegend\":true,\"text\":[80.206],\"textposition\":\"auto\",\"x\":[\"Decision Tree Regression\"],\"xaxis\":\"x\",\"y\":[80.206],\"yaxis\":\"y\",\"type\":\"bar\"},{\"alignmentgroup\":\"True\",\"hovertemplate\":\"Model=%{x}<br>R-squared=%{text}<extra></extra>\",\"legendgroup\":\"ElasticNet Regression\",\"marker\":{\"color\":\"#FECB52\",\"pattern\":{\"shape\":\"\"}},\"name\":\"ElasticNet Regression\",\"offsetgroup\":\"ElasticNet Regression\",\"orientation\":\"v\",\"showlegend\":true,\"text\":[80.019],\"textposition\":\"auto\",\"x\":[\"ElasticNet Regression\"],\"xaxis\":\"x\",\"y\":[80.019],\"yaxis\":\"y\",\"type\":\"bar\"},{\"alignmentgroup\":\"True\",\"hovertemplate\":\"Model=%{x}<br>R-squared=%{text}<extra></extra>\",\"legendgroup\":\"AdaBoost Regression\",\"marker\":{\"color\":\"#636efa\",\"pattern\":{\"shape\":\"\"}},\"name\":\"AdaBoost Regression\",\"offsetgroup\":\"AdaBoost Regression\",\"orientation\":\"v\",\"showlegend\":true,\"text\":[36.111],\"textposition\":\"auto\",\"x\":[\"AdaBoost Regression\"],\"xaxis\":\"x\",\"y\":[36.111],\"yaxis\":\"y\",\"type\":\"bar\"}],                        {\"template\":{\"data\":{\"barpolar\":[{\"marker\":{\"line\":{\"color\":\"rgb(17,17,17)\",\"width\":0.5},\"pattern\":{\"fillmode\":\"overlay\",\"size\":10,\"solidity\":0.2}},\"type\":\"barpolar\"}],\"bar\":[{\"error_x\":{\"color\":\"#f2f5fa\"},\"error_y\":{\"color\":\"#f2f5fa\"},\"marker\":{\"line\":{\"color\":\"rgb(17,17,17)\",\"width\":0.5},\"pattern\":{\"fillmode\":\"overlay\",\"size\":10,\"solidity\":0.2}},\"type\":\"bar\"}],\"carpet\":[{\"aaxis\":{\"endlinecolor\":\"#A2B1C6\",\"gridcolor\":\"#506784\",\"linecolor\":\"#506784\",\"minorgridcolor\":\"#506784\",\"startlinecolor\":\"#A2B1C6\"},\"baxis\":{\"endlinecolor\":\"#A2B1C6\",\"gridcolor\":\"#506784\",\"linecolor\":\"#506784\",\"minorgridcolor\":\"#506784\",\"startlinecolor\":\"#A2B1C6\"},\"type\":\"carpet\"}],\"choropleth\":[{\"colorbar\":{\"outlinewidth\":0,\"ticks\":\"\"},\"type\":\"choropleth\"}],\"contourcarpet\":[{\"colorbar\":{\"outlinewidth\":0,\"ticks\":\"\"},\"type\":\"contourcarpet\"}],\"contour\":[{\"colorbar\":{\"outlinewidth\":0,\"ticks\":\"\"},\"colorscale\":[[0.0,\"#0d0887\"],[0.1111111111111111,\"#46039f\"],[0.2222222222222222,\"#7201a8\"],[0.3333333333333333,\"#9c179e\"],[0.4444444444444444,\"#bd3786\"],[0.5555555555555556,\"#d8576b\"],[0.6666666666666666,\"#ed7953\"],[0.7777777777777778,\"#fb9f3a\"],[0.8888888888888888,\"#fdca26\"],[1.0,\"#f0f921\"]],\"type\":\"contour\"}],\"heatmapgl\":[{\"colorbar\":{\"outlinewidth\":0,\"ticks\":\"\"},\"colorscale\":[[0.0,\"#0d0887\"],[0.1111111111111111,\"#46039f\"],[0.2222222222222222,\"#7201a8\"],[0.3333333333333333,\"#9c179e\"],[0.4444444444444444,\"#bd3786\"],[0.5555555555555556,\"#d8576b\"],[0.6666666666666666,\"#ed7953\"],[0.7777777777777778,\"#fb9f3a\"],[0.8888888888888888,\"#fdca26\"],[1.0,\"#f0f921\"]],\"type\":\"heatmapgl\"}],\"heatmap\":[{\"colorbar\":{\"outlinewidth\":0,\"ticks\":\"\"},\"colorscale\":[[0.0,\"#0d0887\"],[0.1111111111111111,\"#46039f\"],[0.2222222222222222,\"#7201a8\"],[0.3333333333333333,\"#9c179e\"],[0.4444444444444444,\"#bd3786\"],[0.5555555555555556,\"#d8576b\"],[0.6666666666666666,\"#ed7953\"],[0.7777777777777778,\"#fb9f3a\"],[0.8888888888888888,\"#fdca26\"],[1.0,\"#f0f921\"]],\"type\":\"heatmap\"}],\"histogram2dcontour\":[{\"colorbar\":{\"outlinewidth\":0,\"ticks\":\"\"},\"colorscale\":[[0.0,\"#0d0887\"],[0.1111111111111111,\"#46039f\"],[0.2222222222222222,\"#7201a8\"],[0.3333333333333333,\"#9c179e\"],[0.4444444444444444,\"#bd3786\"],[0.5555555555555556,\"#d8576b\"],[0.6666666666666666,\"#ed7953\"],[0.7777777777777778,\"#fb9f3a\"],[0.8888888888888888,\"#fdca26\"],[1.0,\"#f0f921\"]],\"type\":\"histogram2dcontour\"}],\"histogram2d\":[{\"colorbar\":{\"outlinewidth\":0,\"ticks\":\"\"},\"colorscale\":[[0.0,\"#0d0887\"],[0.1111111111111111,\"#46039f\"],[0.2222222222222222,\"#7201a8\"],[0.3333333333333333,\"#9c179e\"],[0.4444444444444444,\"#bd3786\"],[0.5555555555555556,\"#d8576b\"],[0.6666666666666666,\"#ed7953\"],[0.7777777777777778,\"#fb9f3a\"],[0.8888888888888888,\"#fdca26\"],[1.0,\"#f0f921\"]],\"type\":\"histogram2d\"}],\"histogram\":[{\"marker\":{\"pattern\":{\"fillmode\":\"overlay\",\"size\":10,\"solidity\":0.2}},\"type\":\"histogram\"}],\"mesh3d\":[{\"colorbar\":{\"outlinewidth\":0,\"ticks\":\"\"},\"type\":\"mesh3d\"}],\"parcoords\":[{\"line\":{\"colorbar\":{\"outlinewidth\":0,\"ticks\":\"\"}},\"type\":\"parcoords\"}],\"pie\":[{\"automargin\":true,\"type\":\"pie\"}],\"scatter3d\":[{\"line\":{\"colorbar\":{\"outlinewidth\":0,\"ticks\":\"\"}},\"marker\":{\"colorbar\":{\"outlinewidth\":0,\"ticks\":\"\"}},\"type\":\"scatter3d\"}],\"scattercarpet\":[{\"marker\":{\"colorbar\":{\"outlinewidth\":0,\"ticks\":\"\"}},\"type\":\"scattercarpet\"}],\"scattergeo\":[{\"marker\":{\"colorbar\":{\"outlinewidth\":0,\"ticks\":\"\"}},\"type\":\"scattergeo\"}],\"scattergl\":[{\"marker\":{\"line\":{\"color\":\"#283442\"}},\"type\":\"scattergl\"}],\"scattermapbox\":[{\"marker\":{\"colorbar\":{\"outlinewidth\":0,\"ticks\":\"\"}},\"type\":\"scattermapbox\"}],\"scatterpolargl\":[{\"marker\":{\"colorbar\":{\"outlinewidth\":0,\"ticks\":\"\"}},\"type\":\"scatterpolargl\"}],\"scatterpolar\":[{\"marker\":{\"colorbar\":{\"outlinewidth\":0,\"ticks\":\"\"}},\"type\":\"scatterpolar\"}],\"scatter\":[{\"marker\":{\"line\":{\"color\":\"#283442\"}},\"type\":\"scatter\"}],\"scatterternary\":[{\"marker\":{\"colorbar\":{\"outlinewidth\":0,\"ticks\":\"\"}},\"type\":\"scatterternary\"}],\"surface\":[{\"colorbar\":{\"outlinewidth\":0,\"ticks\":\"\"},\"colorscale\":[[0.0,\"#0d0887\"],[0.1111111111111111,\"#46039f\"],[0.2222222222222222,\"#7201a8\"],[0.3333333333333333,\"#9c179e\"],[0.4444444444444444,\"#bd3786\"],[0.5555555555555556,\"#d8576b\"],[0.6666666666666666,\"#ed7953\"],[0.7777777777777778,\"#fb9f3a\"],[0.8888888888888888,\"#fdca26\"],[1.0,\"#f0f921\"]],\"type\":\"surface\"}],\"table\":[{\"cells\":{\"fill\":{\"color\":\"#506784\"},\"line\":{\"color\":\"rgb(17,17,17)\"}},\"header\":{\"fill\":{\"color\":\"#2a3f5f\"},\"line\":{\"color\":\"rgb(17,17,17)\"}},\"type\":\"table\"}]},\"layout\":{\"annotationdefaults\":{\"arrowcolor\":\"#f2f5fa\",\"arrowhead\":0,\"arrowwidth\":1},\"autotypenumbers\":\"strict\",\"coloraxis\":{\"colorbar\":{\"outlinewidth\":0,\"ticks\":\"\"}},\"colorscale\":{\"diverging\":[[0,\"#8e0152\"],[0.1,\"#c51b7d\"],[0.2,\"#de77ae\"],[0.3,\"#f1b6da\"],[0.4,\"#fde0ef\"],[0.5,\"#f7f7f7\"],[0.6,\"#e6f5d0\"],[0.7,\"#b8e186\"],[0.8,\"#7fbc41\"],[0.9,\"#4d9221\"],[1,\"#276419\"]],\"sequential\":[[0.0,\"#0d0887\"],[0.1111111111111111,\"#46039f\"],[0.2222222222222222,\"#7201a8\"],[0.3333333333333333,\"#9c179e\"],[0.4444444444444444,\"#bd3786\"],[0.5555555555555556,\"#d8576b\"],[0.6666666666666666,\"#ed7953\"],[0.7777777777777778,\"#fb9f3a\"],[0.8888888888888888,\"#fdca26\"],[1.0,\"#f0f921\"]],\"sequentialminus\":[[0.0,\"#0d0887\"],[0.1111111111111111,\"#46039f\"],[0.2222222222222222,\"#7201a8\"],[0.3333333333333333,\"#9c179e\"],[0.4444444444444444,\"#bd3786\"],[0.5555555555555556,\"#d8576b\"],[0.6666666666666666,\"#ed7953\"],[0.7777777777777778,\"#fb9f3a\"],[0.8888888888888888,\"#fdca26\"],[1.0,\"#f0f921\"]]},\"colorway\":[\"#636efa\",\"#EF553B\",\"#00cc96\",\"#ab63fa\",\"#FFA15A\",\"#19d3f3\",\"#FF6692\",\"#B6E880\",\"#FF97FF\",\"#FECB52\"],\"font\":{\"color\":\"#f2f5fa\"},\"geo\":{\"bgcolor\":\"rgb(17,17,17)\",\"lakecolor\":\"rgb(17,17,17)\",\"landcolor\":\"rgb(17,17,17)\",\"showlakes\":true,\"showland\":true,\"subunitcolor\":\"#506784\"},\"hoverlabel\":{\"align\":\"left\"},\"hovermode\":\"closest\",\"mapbox\":{\"style\":\"dark\"},\"paper_bgcolor\":\"rgb(17,17,17)\",\"plot_bgcolor\":\"rgb(17,17,17)\",\"polar\":{\"angularaxis\":{\"gridcolor\":\"#506784\",\"linecolor\":\"#506784\",\"ticks\":\"\"},\"bgcolor\":\"rgb(17,17,17)\",\"radialaxis\":{\"gridcolor\":\"#506784\",\"linecolor\":\"#506784\",\"ticks\":\"\"}},\"scene\":{\"xaxis\":{\"backgroundcolor\":\"rgb(17,17,17)\",\"gridcolor\":\"#506784\",\"gridwidth\":2,\"linecolor\":\"#506784\",\"showbackground\":true,\"ticks\":\"\",\"zerolinecolor\":\"#C8D4E3\"},\"yaxis\":{\"backgroundcolor\":\"rgb(17,17,17)\",\"gridcolor\":\"#506784\",\"gridwidth\":2,\"linecolor\":\"#506784\",\"showbackground\":true,\"ticks\":\"\",\"zerolinecolor\":\"#C8D4E3\"},\"zaxis\":{\"backgroundcolor\":\"rgb(17,17,17)\",\"gridcolor\":\"#506784\",\"gridwidth\":2,\"linecolor\":\"#506784\",\"showbackground\":true,\"ticks\":\"\",\"zerolinecolor\":\"#C8D4E3\"}},\"shapedefaults\":{\"line\":{\"color\":\"#f2f5fa\"}},\"sliderdefaults\":{\"bgcolor\":\"#C8D4E3\",\"bordercolor\":\"rgb(17,17,17)\",\"borderwidth\":1,\"tickwidth\":0},\"ternary\":{\"aaxis\":{\"gridcolor\":\"#506784\",\"linecolor\":\"#506784\",\"ticks\":\"\"},\"baxis\":{\"gridcolor\":\"#506784\",\"linecolor\":\"#506784\",\"ticks\":\"\"},\"bgcolor\":\"rgb(17,17,17)\",\"caxis\":{\"gridcolor\":\"#506784\",\"linecolor\":\"#506784\",\"ticks\":\"\"}},\"title\":{\"x\":0.05},\"updatemenudefaults\":{\"bgcolor\":\"#506784\",\"borderwidth\":0},\"xaxis\":{\"automargin\":true,\"gridcolor\":\"#283442\",\"linecolor\":\"#506784\",\"ticks\":\"\",\"title\":{\"standoff\":15},\"zerolinecolor\":\"#283442\",\"zerolinewidth\":2},\"yaxis\":{\"automargin\":true,\"gridcolor\":\"#283442\",\"linecolor\":\"#506784\",\"ticks\":\"\",\"title\":{\"standoff\":15},\"zerolinecolor\":\"#283442\",\"zerolinewidth\":2}}},\"xaxis\":{\"anchor\":\"y\",\"domain\":[0.0,1.0],\"title\":{\"text\":\"Model\"},\"categoryorder\":\"array\",\"categoryarray\":[\"Gradient Boosting Regression\",\"XGBoost Regression\",\"MLP Regression\",\"Linear Regression\",\"Ridge Regression\",\"Lasso Regression\",\"Random Forest Regression\",\"Extra Trees Regression\",\"Decision Tree Regression\",\"ElasticNet Regression\",\"AdaBoost Regression\"]},\"yaxis\":{\"anchor\":\"x\",\"domain\":[0.0,1.0],\"title\":{\"text\":\"R-squared\"}},\"legend\":{\"title\":{\"text\":\"Model\"},\"tracegroupgap\":0},\"title\":{\"text\":\"R-squared  of Different Models\"},\"barmode\":\"relative\",\"height\":800},                        {\"responsive\": true}                    ).then(function(){\n",
       "                            \n",
       "var gd = document.getElementById('c3cc213c-2239-4199-b834-75e82b46d61c');\n",
       "var x = new MutationObserver(function (mutations, observer) {{\n",
       "        var display = window.getComputedStyle(gd).display;\n",
       "        if (!display || display === 'none') {{\n",
       "            console.log([gd, 'removed!']);\n",
       "            Plotly.purge(gd);\n",
       "            observer.disconnect();\n",
       "        }}\n",
       "}});\n",
       "\n",
       "// Listen for the removal of the full notebook cells\n",
       "var notebookContainer = gd.closest('#notebook-container');\n",
       "if (notebookContainer) {{\n",
       "    x.observe(notebookContainer, {childList: true});\n",
       "}}\n",
       "\n",
       "// Listen for the clearing of the current output cell\n",
       "var outputEl = gd.closest('.output');\n",
       "if (outputEl) {{\n",
       "    x.observe(outputEl, {childList: true});\n",
       "}}\n",
       "\n",
       "                        })                };                });            </script>        </div>"
      ]
     },
     "metadata": {},
     "output_type": "display_data"
    }
   ],
   "source": [
    "comparision_metrics_plt = px.bar(comparision_metrics_sorted,\n",
    "                                 x='Model',\n",
    "                                 y='R-squared',  \n",
    "                                 title='R-squared  of Different Models',\n",
    "                                 height=800,\n",
    "                                 color='Model',\n",
    "                                 text='R-squared',  # Add text for both metrics\n",
    "                                 )\n",
    "\n",
    "comparision_metrics_plt.show()"
   ]
  }
 ],
 "metadata": {
  "kernelspec": {
   "display_name": "Python 3 (ipykernel)",
   "language": "python",
   "name": "python3"
  },
  "language_info": {
   "codemirror_mode": {
    "name": "ipython",
    "version": 3
   },
   "file_extension": ".py",
   "mimetype": "text/x-python",
   "name": "python",
   "nbconvert_exporter": "python",
   "pygments_lexer": "ipython3",
   "version": "3.11.5"
  }
 },
 "nbformat": 4,
 "nbformat_minor": 5
}
